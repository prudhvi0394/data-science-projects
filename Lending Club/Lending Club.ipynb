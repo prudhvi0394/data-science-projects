{
 "cells": [
  {
   "cell_type": "code",
   "execution_count": 2,
   "metadata": {},
   "outputs": [],
   "source": [
    "#Loading some libraries\n",
    "import tensorflow as tf\n",
    "import pandas as pd\n",
    "import seaborn as sns\n",
    "import numpy as np\n",
    "import matplotlib.pyplot as plt\n",
    "from matplotlib import rcParams\n",
    "\n",
    "import re\n",
    "\n",
    "import matplotlib.pyplot as plt\n",
    "import seaborn as sns\n",
    "\n",
    "from sklearn.model_selection import train_test_split\n",
    "from sklearn.metrics import accuracy_score, precision_score, recall_score, confusion_matrix, precision_recall_curve\n",
    "from catboost import Pool, CatBoostClassifier\n",
    "\n",
    "from scipy.stats import pearsonr, chi2_contingency\n",
    "from itertools import combinations\n",
    "from statsmodels.stats.proportion import proportion_confint\n",
    "\n",
    "#for visualization\n",
    "import plotly.express as px\n",
    "\n",
    "%matplotlib inline\n",
    "# figure size in inches\n",
    "rcParams['figure.figsize'] = 14,6"
   ]
  },
  {
   "cell_type": "markdown",
   "metadata": {},
   "source": [
    "# Loading data into the kernel"
   ]
  },
  {
   "cell_type": "code",
   "execution_count": 3,
   "metadata": {},
   "outputs": [
    {
     "name": "stderr",
     "output_type": "stream",
     "text": [
      "C:\\Users\\Prudhvi\\Anaconda3\\lib\\site-packages\\IPython\\core\\interactiveshell.py:3058: DtypeWarning:\n",
      "\n",
      "Columns (0,19,49,59,118,129,130,131,134,135,136,139,145,146,147) have mixed types. Specify dtype option on import or set low_memory=False.\n",
      "\n"
     ]
    }
   ],
   "source": [
    "#Loading the data\n",
    "df1=pd.read_csv('C:/Users/Prudhvi/Downloads/lending-club-loan-data/accepted_2007_to_2018.csv',\n",
    "    parse_dates=['issue_d'], infer_datetime_format=True)   #dataset of accepted loans"
   ]
  },
  {
   "cell_type": "markdown",
   "metadata": {},
   "source": [
    "## Creating a duplicate copy"
   ]
  },
  {
   "cell_type": "code",
   "execution_count": 6,
   "metadata": {
    "scrolled": true
   },
   "outputs": [
    {
     "name": "stdout",
     "output_type": "stream",
     "text": [
      "<class 'pandas.core.frame.DataFrame'>\n",
      "RangeIndex: 2260701 entries, 0 to 2260700\n",
      "Columns: 151 entries, id to settlement_term\n",
      "dtypes: datetime64[ns](1), float64(113), object(37)\n",
      "memory usage: 2.5+ GB\n",
      "<class 'pandas.core.frame.DataFrame'>\n",
      "RangeIndex: 2260701 entries, 0 to 2260700\n",
      "Columns: 151 entries, id to settlement_term\n",
      "dtypes: datetime64[ns](1), float64(113), object(37)\n",
      "memory usage: 2.5+ GB\n"
     ]
    }
   ],
   "source": [
    "df1.info()\n",
    "df2=df1                                     \n",
    "df2.info()"
   ]
  },
  {
   "cell_type": "markdown",
   "metadata": {},
   "source": [
    "## Reducing the amount of datapoints by taking 2018 data of loans accepted"
   ]
  },
  {
   "cell_type": "code",
   "execution_count": 7,
   "metadata": {},
   "outputs": [
    {
     "name": "stdout",
     "output_type": "stream",
     "text": [
      "<class 'pandas.core.frame.DataFrame'>\n",
      "Int64Index: 495242 entries, 421097 to 1611876\n",
      "Columns: 151 entries, id to settlement_term\n",
      "dtypes: datetime64[ns](1), float64(113), object(37)\n",
      "memory usage: 574.3+ MB\n"
     ]
    }
   ],
   "source": [
    "df1 = df1[(df1.issue_d >= '2018-01-01 00:00:00') & (df1.issue_d < '2019-01-01 00:00:00')] #reducing the number of datapoints to reduce processing time\n",
    "df1.info()\n"
   ]
  },
  {
   "cell_type": "code",
   "execution_count": 12,
   "metadata": {},
   "outputs": [
    {
     "data": {
      "text/html": [
       "<div>\n",
       "<style scoped>\n",
       "    .dataframe tbody tr th:only-of-type {\n",
       "        vertical-align: middle;\n",
       "    }\n",
       "\n",
       "    .dataframe tbody tr th {\n",
       "        vertical-align: top;\n",
       "    }\n",
       "\n",
       "    .dataframe thead th {\n",
       "        text-align: right;\n",
       "    }\n",
       "</style>\n",
       "<table border=\"1\" class=\"dataframe\">\n",
       "  <thead>\n",
       "    <tr style=\"text-align: right;\">\n",
       "      <th></th>\n",
       "      <th>id</th>\n",
       "      <th>member_id</th>\n",
       "      <th>loan_amnt</th>\n",
       "      <th>funded_amnt</th>\n",
       "      <th>funded_amnt_inv</th>\n",
       "      <th>term</th>\n",
       "      <th>int_rate</th>\n",
       "      <th>installment</th>\n",
       "      <th>grade</th>\n",
       "      <th>sub_grade</th>\n",
       "      <th>...</th>\n",
       "      <th>hardship_payoff_balance_amount</th>\n",
       "      <th>hardship_last_payment_amount</th>\n",
       "      <th>disbursement_method</th>\n",
       "      <th>debt_settlement_flag</th>\n",
       "      <th>debt_settlement_flag_date</th>\n",
       "      <th>settlement_status</th>\n",
       "      <th>settlement_date</th>\n",
       "      <th>settlement_amount</th>\n",
       "      <th>settlement_percentage</th>\n",
       "      <th>settlement_term</th>\n",
       "    </tr>\n",
       "  </thead>\n",
       "  <tbody>\n",
       "    <tr>\n",
       "      <td>0</td>\n",
       "      <td>130954621</td>\n",
       "      <td>NaN</td>\n",
       "      <td>5000.0</td>\n",
       "      <td>5000.0</td>\n",
       "      <td>5000.0</td>\n",
       "      <td>36 months</td>\n",
       "      <td>20.39</td>\n",
       "      <td>186.82</td>\n",
       "      <td>D</td>\n",
       "      <td>D4</td>\n",
       "      <td>...</td>\n",
       "      <td>NaN</td>\n",
       "      <td>NaN</td>\n",
       "      <td>Cash</td>\n",
       "      <td>N</td>\n",
       "      <td>NaN</td>\n",
       "      <td>NaN</td>\n",
       "      <td>NaN</td>\n",
       "      <td>NaN</td>\n",
       "      <td>NaN</td>\n",
       "      <td>NaN</td>\n",
       "    </tr>\n",
       "    <tr>\n",
       "      <td>1</td>\n",
       "      <td>130964697</td>\n",
       "      <td>NaN</td>\n",
       "      <td>15000.0</td>\n",
       "      <td>15000.0</td>\n",
       "      <td>15000.0</td>\n",
       "      <td>36 months</td>\n",
       "      <td>9.92</td>\n",
       "      <td>483.45</td>\n",
       "      <td>B</td>\n",
       "      <td>B2</td>\n",
       "      <td>...</td>\n",
       "      <td>NaN</td>\n",
       "      <td>NaN</td>\n",
       "      <td>Cash</td>\n",
       "      <td>N</td>\n",
       "      <td>NaN</td>\n",
       "      <td>NaN</td>\n",
       "      <td>NaN</td>\n",
       "      <td>NaN</td>\n",
       "      <td>NaN</td>\n",
       "      <td>NaN</td>\n",
       "    </tr>\n",
       "    <tr>\n",
       "      <td>2</td>\n",
       "      <td>130955326</td>\n",
       "      <td>NaN</td>\n",
       "      <td>11200.0</td>\n",
       "      <td>11200.0</td>\n",
       "      <td>11200.0</td>\n",
       "      <td>60 months</td>\n",
       "      <td>30.79</td>\n",
       "      <td>367.82</td>\n",
       "      <td>G</td>\n",
       "      <td>G1</td>\n",
       "      <td>...</td>\n",
       "      <td>NaN</td>\n",
       "      <td>NaN</td>\n",
       "      <td>Cash</td>\n",
       "      <td>N</td>\n",
       "      <td>NaN</td>\n",
       "      <td>NaN</td>\n",
       "      <td>NaN</td>\n",
       "      <td>NaN</td>\n",
       "      <td>NaN</td>\n",
       "      <td>NaN</td>\n",
       "    </tr>\n",
       "    <tr>\n",
       "      <td>3</td>\n",
       "      <td>130504052</td>\n",
       "      <td>NaN</td>\n",
       "      <td>25000.0</td>\n",
       "      <td>25000.0</td>\n",
       "      <td>25000.0</td>\n",
       "      <td>60 months</td>\n",
       "      <td>21.85</td>\n",
       "      <td>688.35</td>\n",
       "      <td>D</td>\n",
       "      <td>D5</td>\n",
       "      <td>...</td>\n",
       "      <td>NaN</td>\n",
       "      <td>NaN</td>\n",
       "      <td>Cash</td>\n",
       "      <td>N</td>\n",
       "      <td>NaN</td>\n",
       "      <td>NaN</td>\n",
       "      <td>NaN</td>\n",
       "      <td>NaN</td>\n",
       "      <td>NaN</td>\n",
       "      <td>NaN</td>\n",
       "    </tr>\n",
       "    <tr>\n",
       "      <td>4</td>\n",
       "      <td>130956066</td>\n",
       "      <td>NaN</td>\n",
       "      <td>3000.0</td>\n",
       "      <td>3000.0</td>\n",
       "      <td>3000.0</td>\n",
       "      <td>36 months</td>\n",
       "      <td>7.34</td>\n",
       "      <td>93.10</td>\n",
       "      <td>A</td>\n",
       "      <td>A4</td>\n",
       "      <td>...</td>\n",
       "      <td>NaN</td>\n",
       "      <td>NaN</td>\n",
       "      <td>Cash</td>\n",
       "      <td>N</td>\n",
       "      <td>NaN</td>\n",
       "      <td>NaN</td>\n",
       "      <td>NaN</td>\n",
       "      <td>NaN</td>\n",
       "      <td>NaN</td>\n",
       "      <td>NaN</td>\n",
       "    </tr>\n",
       "    <tr>\n",
       "      <td>...</td>\n",
       "      <td>...</td>\n",
       "      <td>...</td>\n",
       "      <td>...</td>\n",
       "      <td>...</td>\n",
       "      <td>...</td>\n",
       "      <td>...</td>\n",
       "      <td>...</td>\n",
       "      <td>...</td>\n",
       "      <td>...</td>\n",
       "      <td>...</td>\n",
       "      <td>...</td>\n",
       "      <td>...</td>\n",
       "      <td>...</td>\n",
       "      <td>...</td>\n",
       "      <td>...</td>\n",
       "      <td>...</td>\n",
       "      <td>...</td>\n",
       "      <td>...</td>\n",
       "      <td>...</td>\n",
       "      <td>...</td>\n",
       "      <td>...</td>\n",
       "    </tr>\n",
       "    <tr>\n",
       "      <td>495237</td>\n",
       "      <td>130135401</td>\n",
       "      <td>NaN</td>\n",
       "      <td>12000.0</td>\n",
       "      <td>12000.0</td>\n",
       "      <td>12000.0</td>\n",
       "      <td>36 months</td>\n",
       "      <td>11.98</td>\n",
       "      <td>398.46</td>\n",
       "      <td>B</td>\n",
       "      <td>B5</td>\n",
       "      <td>...</td>\n",
       "      <td>NaN</td>\n",
       "      <td>NaN</td>\n",
       "      <td>Cash</td>\n",
       "      <td>N</td>\n",
       "      <td>NaN</td>\n",
       "      <td>NaN</td>\n",
       "      <td>NaN</td>\n",
       "      <td>NaN</td>\n",
       "      <td>NaN</td>\n",
       "      <td>NaN</td>\n",
       "    </tr>\n",
       "    <tr>\n",
       "      <td>495238</td>\n",
       "      <td>129961614</td>\n",
       "      <td>NaN</td>\n",
       "      <td>3000.0</td>\n",
       "      <td>3000.0</td>\n",
       "      <td>3000.0</td>\n",
       "      <td>36 months</td>\n",
       "      <td>20.39</td>\n",
       "      <td>112.09</td>\n",
       "      <td>D</td>\n",
       "      <td>D4</td>\n",
       "      <td>...</td>\n",
       "      <td>NaN</td>\n",
       "      <td>NaN</td>\n",
       "      <td>Cash</td>\n",
       "      <td>N</td>\n",
       "      <td>NaN</td>\n",
       "      <td>NaN</td>\n",
       "      <td>NaN</td>\n",
       "      <td>NaN</td>\n",
       "      <td>NaN</td>\n",
       "      <td>NaN</td>\n",
       "    </tr>\n",
       "    <tr>\n",
       "      <td>495239</td>\n",
       "      <td>130056422</td>\n",
       "      <td>NaN</td>\n",
       "      <td>14000.0</td>\n",
       "      <td>14000.0</td>\n",
       "      <td>13975.0</td>\n",
       "      <td>36 months</td>\n",
       "      <td>16.01</td>\n",
       "      <td>492.27</td>\n",
       "      <td>C</td>\n",
       "      <td>C5</td>\n",
       "      <td>...</td>\n",
       "      <td>NaN</td>\n",
       "      <td>NaN</td>\n",
       "      <td>Cash</td>\n",
       "      <td>N</td>\n",
       "      <td>NaN</td>\n",
       "      <td>NaN</td>\n",
       "      <td>NaN</td>\n",
       "      <td>NaN</td>\n",
       "      <td>NaN</td>\n",
       "      <td>NaN</td>\n",
       "    </tr>\n",
       "    <tr>\n",
       "      <td>495240</td>\n",
       "      <td>130065381</td>\n",
       "      <td>NaN</td>\n",
       "      <td>7500.0</td>\n",
       "      <td>7500.0</td>\n",
       "      <td>7500.0</td>\n",
       "      <td>36 months</td>\n",
       "      <td>10.90</td>\n",
       "      <td>245.19</td>\n",
       "      <td>B</td>\n",
       "      <td>B4</td>\n",
       "      <td>...</td>\n",
       "      <td>NaN</td>\n",
       "      <td>NaN</td>\n",
       "      <td>Cash</td>\n",
       "      <td>N</td>\n",
       "      <td>NaN</td>\n",
       "      <td>NaN</td>\n",
       "      <td>NaN</td>\n",
       "      <td>NaN</td>\n",
       "      <td>NaN</td>\n",
       "      <td>NaN</td>\n",
       "    </tr>\n",
       "    <tr>\n",
       "      <td>495241</td>\n",
       "      <td>129555354</td>\n",
       "      <td>NaN</td>\n",
       "      <td>35000.0</td>\n",
       "      <td>35000.0</td>\n",
       "      <td>35000.0</td>\n",
       "      <td>36 months</td>\n",
       "      <td>6.07</td>\n",
       "      <td>1065.88</td>\n",
       "      <td>A</td>\n",
       "      <td>A2</td>\n",
       "      <td>...</td>\n",
       "      <td>NaN</td>\n",
       "      <td>NaN</td>\n",
       "      <td>Cash</td>\n",
       "      <td>N</td>\n",
       "      <td>NaN</td>\n",
       "      <td>NaN</td>\n",
       "      <td>NaN</td>\n",
       "      <td>NaN</td>\n",
       "      <td>NaN</td>\n",
       "      <td>NaN</td>\n",
       "    </tr>\n",
       "  </tbody>\n",
       "</table>\n",
       "<p>495242 rows × 151 columns</p>\n",
       "</div>"
      ],
      "text/plain": [
       "               id  member_id  loan_amnt  funded_amnt  funded_amnt_inv  \\\n",
       "0       130954621        NaN     5000.0       5000.0           5000.0   \n",
       "1       130964697        NaN    15000.0      15000.0          15000.0   \n",
       "2       130955326        NaN    11200.0      11200.0          11200.0   \n",
       "3       130504052        NaN    25000.0      25000.0          25000.0   \n",
       "4       130956066        NaN     3000.0       3000.0           3000.0   \n",
       "...           ...        ...        ...          ...              ...   \n",
       "495237  130135401        NaN    12000.0      12000.0          12000.0   \n",
       "495238  129961614        NaN     3000.0       3000.0           3000.0   \n",
       "495239  130056422        NaN    14000.0      14000.0          13975.0   \n",
       "495240  130065381        NaN     7500.0       7500.0           7500.0   \n",
       "495241  129555354        NaN    35000.0      35000.0          35000.0   \n",
       "\n",
       "              term  int_rate  installment grade sub_grade  ...  \\\n",
       "0        36 months     20.39       186.82     D        D4  ...   \n",
       "1        36 months      9.92       483.45     B        B2  ...   \n",
       "2        60 months     30.79       367.82     G        G1  ...   \n",
       "3        60 months     21.85       688.35     D        D5  ...   \n",
       "4        36 months      7.34        93.10     A        A4  ...   \n",
       "...            ...       ...          ...   ...       ...  ...   \n",
       "495237   36 months     11.98       398.46     B        B5  ...   \n",
       "495238   36 months     20.39       112.09     D        D4  ...   \n",
       "495239   36 months     16.01       492.27     C        C5  ...   \n",
       "495240   36 months     10.90       245.19     B        B4  ...   \n",
       "495241   36 months      6.07      1065.88     A        A2  ...   \n",
       "\n",
       "       hardship_payoff_balance_amount hardship_last_payment_amount  \\\n",
       "0                                 NaN                          NaN   \n",
       "1                                 NaN                          NaN   \n",
       "2                                 NaN                          NaN   \n",
       "3                                 NaN                          NaN   \n",
       "4                                 NaN                          NaN   \n",
       "...                               ...                          ...   \n",
       "495237                            NaN                          NaN   \n",
       "495238                            NaN                          NaN   \n",
       "495239                            NaN                          NaN   \n",
       "495240                            NaN                          NaN   \n",
       "495241                            NaN                          NaN   \n",
       "\n",
       "       disbursement_method  debt_settlement_flag debt_settlement_flag_date  \\\n",
       "0                     Cash                     N                       NaN   \n",
       "1                     Cash                     N                       NaN   \n",
       "2                     Cash                     N                       NaN   \n",
       "3                     Cash                     N                       NaN   \n",
       "4                     Cash                     N                       NaN   \n",
       "...                    ...                   ...                       ...   \n",
       "495237                Cash                     N                       NaN   \n",
       "495238                Cash                     N                       NaN   \n",
       "495239                Cash                     N                       NaN   \n",
       "495240                Cash                     N                       NaN   \n",
       "495241                Cash                     N                       NaN   \n",
       "\n",
       "       settlement_status settlement_date settlement_amount  \\\n",
       "0                    NaN             NaN               NaN   \n",
       "1                    NaN             NaN               NaN   \n",
       "2                    NaN             NaN               NaN   \n",
       "3                    NaN             NaN               NaN   \n",
       "4                    NaN             NaN               NaN   \n",
       "...                  ...             ...               ...   \n",
       "495237               NaN             NaN               NaN   \n",
       "495238               NaN             NaN               NaN   \n",
       "495239               NaN             NaN               NaN   \n",
       "495240               NaN             NaN               NaN   \n",
       "495241               NaN             NaN               NaN   \n",
       "\n",
       "       settlement_percentage settlement_term  \n",
       "0                        NaN             NaN  \n",
       "1                        NaN             NaN  \n",
       "2                        NaN             NaN  \n",
       "3                        NaN             NaN  \n",
       "4                        NaN             NaN  \n",
       "...                      ...             ...  \n",
       "495237                   NaN             NaN  \n",
       "495238                   NaN             NaN  \n",
       "495239                   NaN             NaN  \n",
       "495240                   NaN             NaN  \n",
       "495241                   NaN             NaN  \n",
       "\n",
       "[495242 rows x 151 columns]"
      ]
     },
     "execution_count": 12,
     "metadata": {},
     "output_type": "execute_result"
    }
   ],
   "source": [
    "df1.head()\n",
    "df1.reset_index(drop=True)        #resetting the index\n"
   ]
  },
  {
   "cell_type": "markdown",
   "metadata": {},
   "source": [
    "## Data preprocessing"
   ]
  },
  {
   "cell_type": "code",
   "execution_count": 8,
   "metadata": {},
   "outputs": [
    {
     "data": {
      "text/html": [
       "<div>\n",
       "<style scoped>\n",
       "    .dataframe tbody tr th:only-of-type {\n",
       "        vertical-align: middle;\n",
       "    }\n",
       "\n",
       "    .dataframe tbody tr th {\n",
       "        vertical-align: top;\n",
       "    }\n",
       "\n",
       "    .dataframe thead th {\n",
       "        text-align: right;\n",
       "    }\n",
       "</style>\n",
       "<table border=\"1\" class=\"dataframe\">\n",
       "  <thead>\n",
       "    <tr style=\"text-align: right;\">\n",
       "      <th></th>\n",
       "      <th>member_id</th>\n",
       "      <th>loan_amnt</th>\n",
       "      <th>funded_amnt</th>\n",
       "      <th>funded_amnt_inv</th>\n",
       "      <th>int_rate</th>\n",
       "      <th>installment</th>\n",
       "      <th>annual_inc</th>\n",
       "      <th>dti</th>\n",
       "      <th>delinq_2yrs</th>\n",
       "      <th>fico_range_low</th>\n",
       "      <th>...</th>\n",
       "      <th>deferral_term</th>\n",
       "      <th>hardship_amount</th>\n",
       "      <th>hardship_length</th>\n",
       "      <th>hardship_dpd</th>\n",
       "      <th>orig_projected_additional_accrued_interest</th>\n",
       "      <th>hardship_payoff_balance_amount</th>\n",
       "      <th>hardship_last_payment_amount</th>\n",
       "      <th>settlement_amount</th>\n",
       "      <th>settlement_percentage</th>\n",
       "      <th>settlement_term</th>\n",
       "    </tr>\n",
       "  </thead>\n",
       "  <tbody>\n",
       "    <tr>\n",
       "      <td>count</td>\n",
       "      <td>0.0</td>\n",
       "      <td>495242.000000</td>\n",
       "      <td>495242.000000</td>\n",
       "      <td>495242.000000</td>\n",
       "      <td>495242.000000</td>\n",
       "      <td>495242.000000</td>\n",
       "      <td>4.952420e+05</td>\n",
       "      <td>494110.000000</td>\n",
       "      <td>495242.000000</td>\n",
       "      <td>495242.000000</td>\n",
       "      <td>...</td>\n",
       "      <td>368.0</td>\n",
       "      <td>368.000000</td>\n",
       "      <td>368.0</td>\n",
       "      <td>368.000000</td>\n",
       "      <td>321.000000</td>\n",
       "      <td>368.000000</td>\n",
       "      <td>368.000000</td>\n",
       "      <td>480.000000</td>\n",
       "      <td>480.000000</td>\n",
       "      <td>480.000000</td>\n",
       "    </tr>\n",
       "    <tr>\n",
       "      <td>mean</td>\n",
       "      <td>NaN</td>\n",
       "      <td>16025.020394</td>\n",
       "      <td>16025.020394</td>\n",
       "      <td>16021.669277</td>\n",
       "      <td>12.729072</td>\n",
       "      <td>466.612858</td>\n",
       "      <td>8.009399e+04</td>\n",
       "      <td>19.668887</td>\n",
       "      <td>0.229252</td>\n",
       "      <td>706.403637</td>\n",
       "      <td>...</td>\n",
       "      <td>3.0</td>\n",
       "      <td>196.141902</td>\n",
       "      <td>3.0</td>\n",
       "      <td>12.760870</td>\n",
       "      <td>595.377850</td>\n",
       "      <td>15633.306304</td>\n",
       "      <td>215.650815</td>\n",
       "      <td>7145.746083</td>\n",
       "      <td>54.567729</td>\n",
       "      <td>18.022917</td>\n",
       "    </tr>\n",
       "    <tr>\n",
       "      <td>std</td>\n",
       "      <td>NaN</td>\n",
       "      <td>10138.075023</td>\n",
       "      <td>10138.075023</td>\n",
       "      <td>10137.900298</td>\n",
       "      <td>5.150204</td>\n",
       "      <td>286.909624</td>\n",
       "      <td>8.887161e+04</td>\n",
       "      <td>20.458244</td>\n",
       "      <td>0.743665</td>\n",
       "      <td>36.045280</td>\n",
       "      <td>...</td>\n",
       "      <td>0.0</td>\n",
       "      <td>147.686771</td>\n",
       "      <td>0.0</td>\n",
       "      <td>8.979989</td>\n",
       "      <td>451.388039</td>\n",
       "      <td>9434.677079</td>\n",
       "      <td>215.056762</td>\n",
       "      <td>5037.838506</td>\n",
       "      <td>9.347597</td>\n",
       "      <td>6.361213</td>\n",
       "    </tr>\n",
       "    <tr>\n",
       "      <td>min</td>\n",
       "      <td>NaN</td>\n",
       "      <td>1000.000000</td>\n",
       "      <td>1000.000000</td>\n",
       "      <td>725.000000</td>\n",
       "      <td>5.310000</td>\n",
       "      <td>29.760000</td>\n",
       "      <td>0.000000e+00</td>\n",
       "      <td>0.000000</td>\n",
       "      <td>0.000000</td>\n",
       "      <td>660.000000</td>\n",
       "      <td>...</td>\n",
       "      <td>3.0</td>\n",
       "      <td>5.950000</td>\n",
       "      <td>3.0</td>\n",
       "      <td>0.000000</td>\n",
       "      <td>31.470000</td>\n",
       "      <td>424.110000</td>\n",
       "      <td>0.070000</td>\n",
       "      <td>413.930000</td>\n",
       "      <td>29.950000</td>\n",
       "      <td>1.000000</td>\n",
       "    </tr>\n",
       "    <tr>\n",
       "      <td>25%</td>\n",
       "      <td>NaN</td>\n",
       "      <td>8000.000000</td>\n",
       "      <td>8000.000000</td>\n",
       "      <td>8000.000000</td>\n",
       "      <td>8.460000</td>\n",
       "      <td>254.560000</td>\n",
       "      <td>4.600000e+04</td>\n",
       "      <td>11.430000</td>\n",
       "      <td>0.000000</td>\n",
       "      <td>680.000000</td>\n",
       "      <td>...</td>\n",
       "      <td>3.0</td>\n",
       "      <td>87.397500</td>\n",
       "      <td>3.0</td>\n",
       "      <td>5.000000</td>\n",
       "      <td>258.720000</td>\n",
       "      <td>7966.517500</td>\n",
       "      <td>50.870000</td>\n",
       "      <td>3367.127500</td>\n",
       "      <td>45.000000</td>\n",
       "      <td>17.000000</td>\n",
       "    </tr>\n",
       "    <tr>\n",
       "      <td>50%</td>\n",
       "      <td>NaN</td>\n",
       "      <td>14000.000000</td>\n",
       "      <td>14000.000000</td>\n",
       "      <td>14000.000000</td>\n",
       "      <td>11.800000</td>\n",
       "      <td>386.820000</td>\n",
       "      <td>6.600000e+04</td>\n",
       "      <td>17.710000</td>\n",
       "      <td>0.000000</td>\n",
       "      <td>700.000000</td>\n",
       "      <td>...</td>\n",
       "      <td>3.0</td>\n",
       "      <td>160.105000</td>\n",
       "      <td>3.0</td>\n",
       "      <td>13.000000</td>\n",
       "      <td>479.820000</td>\n",
       "      <td>13323.565000</td>\n",
       "      <td>153.205000</td>\n",
       "      <td>5626.135000</td>\n",
       "      <td>55.000000</td>\n",
       "      <td>18.000000</td>\n",
       "    </tr>\n",
       "    <tr>\n",
       "      <td>75%</td>\n",
       "      <td>NaN</td>\n",
       "      <td>22000.000000</td>\n",
       "      <td>22000.000000</td>\n",
       "      <td>22000.000000</td>\n",
       "      <td>16.010000</td>\n",
       "      <td>629.040000</td>\n",
       "      <td>9.600000e+04</td>\n",
       "      <td>25.030000</td>\n",
       "      <td>0.000000</td>\n",
       "      <td>725.000000</td>\n",
       "      <td>...</td>\n",
       "      <td>3.0</td>\n",
       "      <td>271.905000</td>\n",
       "      <td>3.0</td>\n",
       "      <td>20.000000</td>\n",
       "      <td>819.900000</td>\n",
       "      <td>22590.200000</td>\n",
       "      <td>327.382500</td>\n",
       "      <td>9761.500000</td>\n",
       "      <td>65.000000</td>\n",
       "      <td>24.000000</td>\n",
       "    </tr>\n",
       "    <tr>\n",
       "      <td>max</td>\n",
       "      <td>NaN</td>\n",
       "      <td>40000.000000</td>\n",
       "      <td>40000.000000</td>\n",
       "      <td>40000.000000</td>\n",
       "      <td>30.990000</td>\n",
       "      <td>1670.150000</td>\n",
       "      <td>9.930475e+06</td>\n",
       "      <td>999.000000</td>\n",
       "      <td>58.000000</td>\n",
       "      <td>845.000000</td>\n",
       "      <td>...</td>\n",
       "      <td>3.0</td>\n",
       "      <td>845.220000</td>\n",
       "      <td>3.0</td>\n",
       "      <td>29.000000</td>\n",
       "      <td>2535.660000</td>\n",
       "      <td>40149.350000</td>\n",
       "      <td>1159.620000</td>\n",
       "      <td>28503.000000</td>\n",
       "      <td>80.000000</td>\n",
       "      <td>24.000000</td>\n",
       "    </tr>\n",
       "  </tbody>\n",
       "</table>\n",
       "<p>8 rows × 113 columns</p>\n",
       "</div>"
      ],
      "text/plain": [
       "       member_id      loan_amnt    funded_amnt  funded_amnt_inv  \\\n",
       "count        0.0  495242.000000  495242.000000    495242.000000   \n",
       "mean         NaN   16025.020394   16025.020394     16021.669277   \n",
       "std          NaN   10138.075023   10138.075023     10137.900298   \n",
       "min          NaN    1000.000000    1000.000000       725.000000   \n",
       "25%          NaN    8000.000000    8000.000000      8000.000000   \n",
       "50%          NaN   14000.000000   14000.000000     14000.000000   \n",
       "75%          NaN   22000.000000   22000.000000     22000.000000   \n",
       "max          NaN   40000.000000   40000.000000     40000.000000   \n",
       "\n",
       "            int_rate    installment    annual_inc            dti  \\\n",
       "count  495242.000000  495242.000000  4.952420e+05  494110.000000   \n",
       "mean       12.729072     466.612858  8.009399e+04      19.668887   \n",
       "std         5.150204     286.909624  8.887161e+04      20.458244   \n",
       "min         5.310000      29.760000  0.000000e+00       0.000000   \n",
       "25%         8.460000     254.560000  4.600000e+04      11.430000   \n",
       "50%        11.800000     386.820000  6.600000e+04      17.710000   \n",
       "75%        16.010000     629.040000  9.600000e+04      25.030000   \n",
       "max        30.990000    1670.150000  9.930475e+06     999.000000   \n",
       "\n",
       "         delinq_2yrs  fico_range_low  ...  deferral_term  hardship_amount  \\\n",
       "count  495242.000000   495242.000000  ...          368.0       368.000000   \n",
       "mean        0.229252      706.403637  ...            3.0       196.141902   \n",
       "std         0.743665       36.045280  ...            0.0       147.686771   \n",
       "min         0.000000      660.000000  ...            3.0         5.950000   \n",
       "25%         0.000000      680.000000  ...            3.0        87.397500   \n",
       "50%         0.000000      700.000000  ...            3.0       160.105000   \n",
       "75%         0.000000      725.000000  ...            3.0       271.905000   \n",
       "max        58.000000      845.000000  ...            3.0       845.220000   \n",
       "\n",
       "       hardship_length  hardship_dpd  \\\n",
       "count            368.0    368.000000   \n",
       "mean               3.0     12.760870   \n",
       "std                0.0      8.979989   \n",
       "min                3.0      0.000000   \n",
       "25%                3.0      5.000000   \n",
       "50%                3.0     13.000000   \n",
       "75%                3.0     20.000000   \n",
       "max                3.0     29.000000   \n",
       "\n",
       "       orig_projected_additional_accrued_interest  \\\n",
       "count                                  321.000000   \n",
       "mean                                   595.377850   \n",
       "std                                    451.388039   \n",
       "min                                     31.470000   \n",
       "25%                                    258.720000   \n",
       "50%                                    479.820000   \n",
       "75%                                    819.900000   \n",
       "max                                   2535.660000   \n",
       "\n",
       "       hardship_payoff_balance_amount  hardship_last_payment_amount  \\\n",
       "count                      368.000000                    368.000000   \n",
       "mean                     15633.306304                    215.650815   \n",
       "std                       9434.677079                    215.056762   \n",
       "min                        424.110000                      0.070000   \n",
       "25%                       7966.517500                     50.870000   \n",
       "50%                      13323.565000                    153.205000   \n",
       "75%                      22590.200000                    327.382500   \n",
       "max                      40149.350000                   1159.620000   \n",
       "\n",
       "       settlement_amount  settlement_percentage  settlement_term  \n",
       "count         480.000000             480.000000       480.000000  \n",
       "mean         7145.746083              54.567729        18.022917  \n",
       "std          5037.838506               9.347597         6.361213  \n",
       "min           413.930000              29.950000         1.000000  \n",
       "25%          3367.127500              45.000000        17.000000  \n",
       "50%          5626.135000              55.000000        18.000000  \n",
       "75%          9761.500000              65.000000        24.000000  \n",
       "max         28503.000000              80.000000        24.000000  \n",
       "\n",
       "[8 rows x 113 columns]"
      ]
     },
     "execution_count": 8,
     "metadata": {},
     "output_type": "execute_result"
    }
   ],
   "source": [
    "df1.describe()"
   ]
  },
  {
   "cell_type": "code",
   "execution_count": 18,
   "metadata": {},
   "outputs": [
    {
     "data": {
      "text/plain": [
       "421097     5000.0\n",
       "421098    15000.0\n",
       "421099    11200.0\n",
       "421100    25000.0\n",
       "421101     3000.0\n",
       "Name: loan_amnt, dtype: float64"
      ]
     },
     "execution_count": 18,
     "metadata": {},
     "output_type": "execute_result"
    }
   ],
   "source": [
    "df1[\"loan_amnt\"].head()"
   ]
  },
  {
   "cell_type": "markdown",
   "metadata": {},
   "source": [
    "## Getting dictionary of names "
   ]
  },
  {
   "cell_type": "code",
   "execution_count": 48,
   "metadata": {},
   "outputs": [
    {
     "name": "stdout",
     "output_type": "stream",
     "text": [
      "<class 'pandas.core.frame.DataFrame'>\n",
      "RangeIndex: 122 entries, 0 to 121\n",
      "Data columns (total 2 columns):\n",
      "BrowseNotesFile    120 non-null object\n",
      "Description        121 non-null object\n",
      "dtypes: object(2)\n",
      "memory usage: 2.0+ KB\n"
     ]
    }
   ],
   "source": [
    "inv_view = pd.read_excel('C:/Users/Prudhvi/Downloads/lending-club-loan-data/LCDataDictionary.xlsx',\n",
    "                             sheet_name=1)\n",
    "inv_view.head(20)\n",
    "inv_view.info()\n",
    "inv_feat = inv_view['BrowseNotesFile'].dropna().values\n",
    "inv_feat = [re.sub('(?<![0-9_])(?=[A-Z0-9])', '_', x).lower().strip() for x in inv_feat]  #the column value names are different from the original dataset since this is a view shown to investors only whereas original dataset has more columns \n"
   ]
  },
  {
   "cell_type": "markdown",
   "metadata": {},
   "source": [
    "## Lending kart data has columns of data which are relevant only after loan is issued so removing those which aren't available at the time of investing\n",
    "\n",
    "To get a list of such variables we can see their dictionary sheet in which they have given investor columns view "
   ]
  },
  {
   "cell_type": "code",
   "execution_count": 67,
   "metadata": {
    "scrolled": true
   },
   "outputs": [
    {
     "data": {
      "text/plain": [
       "array(['accept_d', 'credit_pull_d', 'effective_int_rate', 'exp_d',\n",
       "       'exp_default_rate', 'ils_exp_d', 'is_inc_v', 'list_d', 'msa',\n",
       "       'mths_since_most_recent_inq', 'mths_since_oldest_il_open',\n",
       "       'mths_since_recent_loan_delinq', 'review_status',\n",
       "       'review_status_d', 'service_fee_rate', 'verified_status_joint'],\n",
       "      dtype='<U35')"
      ]
     },
     "execution_count": 67,
     "metadata": {},
     "output_type": "execute_result"
    }
   ],
   "source": [
    "#checking for different columns in both sets, the view to investor and view of the company\n",
    "feat=df1.columns.values\n",
    "np.setdiff1d(inv_feat,feat)\n"
   ]
  },
  {
   "cell_type": "code",
   "execution_count": 68,
   "metadata": {
    "scrolled": true
   },
   "outputs": [
    {
     "data": {
      "text/plain": [
       "array(['collection_recovery_fee', 'debt_settlement_flag',\n",
       "       'debt_settlement_flag_date', 'deferral_term', 'funded_amnt_inv',\n",
       "       'hardship_amount', 'hardship_dpd', 'hardship_end_date',\n",
       "       'hardship_flag', 'hardship_last_payment_amount', 'hardship_length',\n",
       "       'hardship_loan_status', 'hardship_payoff_balance_amount',\n",
       "       'hardship_reason', 'hardship_start_date', 'hardship_status',\n",
       "       'hardship_type', 'int_round', 'issue_d', 'last_credit_pull_d',\n",
       "       'last_fico_range_high', 'last_fico_range_low', 'last_pymnt_amnt',\n",
       "       'last_pymnt_d', 'loan_status', 'mo_sin_old_il_acct',\n",
       "       'mths_since_recent_bc_dlq', 'mths_since_recent_inq',\n",
       "       'next_pymnt_d', 'orig_projected_additional_accrued_interest',\n",
       "       'out_prncp', 'out_prncp_inv', 'payment_plan_start_date',\n",
       "       'policy_code', 'pymnt_plan', 'recoveries', 'settlement_amount',\n",
       "       'settlement_date', 'settlement_percentage', 'settlement_status',\n",
       "       'settlement_term', 'total_pymnt', 'total_pymnt_inv',\n",
       "       'total_rec_int', 'total_rec_late_fee', 'total_rec_prncp',\n",
       "       'verification_status', 'verification_status_joint'], dtype=object)"
      ]
     },
     "execution_count": 68,
     "metadata": {},
     "output_type": "execute_result"
    }
   ],
   "source": [
    "np.setdiff1d(feat,inv_feat)   #checking for values in array 1 which aren't in array 2\n",
    "\n",
    "# we see that some columns are there in both but spellings are different so changing the spellings"
   ]
  },
  {
   "cell_type": "code",
   "execution_count": 69,
   "metadata": {},
   "outputs": [],
   "source": [
    "wrong = ['is_inc_v', 'mths_since_most_recent_inq', 'mths_since_oldest_il_open',\n",
    "         'mths_since_recent_loan_delinq', 'verified_status_joint']\n",
    "correct = ['verification_status', 'mths_since_recent_inq', 'mo_sin_old_il_acct',\n",
    "           'mths_since_recent_bc_dlq', 'verification_status_joint']"
   ]
  },
  {
   "cell_type": "code",
   "execution_count": 71,
   "metadata": {},
   "outputs": [],
   "source": [
    "inv_feat = np.setdiff1d(inv_feat, wrong)   #subtracting wrong columns from the dataset \n",
    "inv_feat = np.append(inv_feat, correct)    #appending correct values below"
   ]
  },
  {
   "cell_type": "code",
   "execution_count": 76,
   "metadata": {},
   "outputs": [
    {
     "name": "stdout",
     "output_type": "stream",
     "text": [
      "<class 'pandas.core.frame.DataFrame'>\n",
      "Int64Index: 495242 entries, 421097 to 1611876\n",
      "Columns: 109 entries, acc_now_delinq to zip_code\n",
      "dtypes: float64(89), object(20)\n",
      "memory usage: 415.6+ MB\n"
     ]
    }
   ],
   "source": [
    "inv_feat1 = np.intersect1d(inv_feat, feat)\n",
    "df2= df1[inv_feat1].copy()\n",
    "df2.info()  #intersection of columns values available for the investors"
   ]
  },
  {
   "cell_type": "code",
   "execution_count": 77,
   "metadata": {
    "scrolled": true
   },
   "outputs": [
    {
     "data": {
      "text/html": [
       "<div>\n",
       "<style scoped>\n",
       "    .dataframe tbody tr th:only-of-type {\n",
       "        vertical-align: middle;\n",
       "    }\n",
       "\n",
       "    .dataframe tbody tr th {\n",
       "        vertical-align: top;\n",
       "    }\n",
       "\n",
       "    .dataframe thead th {\n",
       "        text-align: right;\n",
       "    }\n",
       "</style>\n",
       "<table border=\"1\" class=\"dataframe\">\n",
       "  <thead>\n",
       "    <tr style=\"text-align: right;\">\n",
       "      <th></th>\n",
       "      <th>addr_state</th>\n",
       "      <th>application_type</th>\n",
       "      <th>desc</th>\n",
       "      <th>disbursement_method</th>\n",
       "      <th>earliest_cr_line</th>\n",
       "      <th>emp_length</th>\n",
       "      <th>emp_title</th>\n",
       "      <th>grade</th>\n",
       "      <th>home_ownership</th>\n",
       "      <th>id</th>\n",
       "      <th>initial_list_status</th>\n",
       "      <th>purpose</th>\n",
       "      <th>sec_app_earliest_cr_line</th>\n",
       "      <th>sub_grade</th>\n",
       "      <th>term</th>\n",
       "      <th>title</th>\n",
       "      <th>url</th>\n",
       "      <th>verification_status</th>\n",
       "      <th>verification_status_joint</th>\n",
       "      <th>zip_code</th>\n",
       "    </tr>\n",
       "  </thead>\n",
       "  <tbody>\n",
       "    <tr>\n",
       "      <td>421097</td>\n",
       "      <td>OK</td>\n",
       "      <td>Individual</td>\n",
       "      <td>NaN</td>\n",
       "      <td>Cash</td>\n",
       "      <td>Jan-2009</td>\n",
       "      <td>8 years</td>\n",
       "      <td>General Manager</td>\n",
       "      <td>D</td>\n",
       "      <td>RENT</td>\n",
       "      <td>130954621</td>\n",
       "      <td>w</td>\n",
       "      <td>other</td>\n",
       "      <td>NaN</td>\n",
       "      <td>D4</td>\n",
       "      <td>36 months</td>\n",
       "      <td>Other</td>\n",
       "      <td>https://lendingclub.com/browse/loanDetail.acti...</td>\n",
       "      <td>Verified</td>\n",
       "      <td>NaN</td>\n",
       "      <td>740xx</td>\n",
       "    </tr>\n",
       "    <tr>\n",
       "      <td>421098</td>\n",
       "      <td>FL</td>\n",
       "      <td>Individual</td>\n",
       "      <td>NaN</td>\n",
       "      <td>Cash</td>\n",
       "      <td>Jul-1998</td>\n",
       "      <td>2 years</td>\n",
       "      <td>IT Director</td>\n",
       "      <td>B</td>\n",
       "      <td>OWN</td>\n",
       "      <td>130964697</td>\n",
       "      <td>w</td>\n",
       "      <td>debt_consolidation</td>\n",
       "      <td>NaN</td>\n",
       "      <td>B2</td>\n",
       "      <td>36 months</td>\n",
       "      <td>Debt consolidation</td>\n",
       "      <td>https://lendingclub.com/browse/loanDetail.acti...</td>\n",
       "      <td>Source Verified</td>\n",
       "      <td>NaN</td>\n",
       "      <td>337xx</td>\n",
       "    </tr>\n",
       "    <tr>\n",
       "      <td>421099</td>\n",
       "      <td>NH</td>\n",
       "      <td>Joint App</td>\n",
       "      <td>NaN</td>\n",
       "      <td>Cash</td>\n",
       "      <td>Jul-2007</td>\n",
       "      <td>&lt; 1 year</td>\n",
       "      <td>Client services</td>\n",
       "      <td>G</td>\n",
       "      <td>RENT</td>\n",
       "      <td>130955326</td>\n",
       "      <td>w</td>\n",
       "      <td>medical</td>\n",
       "      <td>Feb-2005</td>\n",
       "      <td>G1</td>\n",
       "      <td>60 months</td>\n",
       "      <td>Medical expenses</td>\n",
       "      <td>https://lendingclub.com/browse/loanDetail.acti...</td>\n",
       "      <td>Not Verified</td>\n",
       "      <td>Not Verified</td>\n",
       "      <td>030xx</td>\n",
       "    </tr>\n",
       "    <tr>\n",
       "      <td>421100</td>\n",
       "      <td>AL</td>\n",
       "      <td>Individual</td>\n",
       "      <td>NaN</td>\n",
       "      <td>Cash</td>\n",
       "      <td>Mar-1995</td>\n",
       "      <td>10+ years</td>\n",
       "      <td>Asphalt Supervisor</td>\n",
       "      <td>D</td>\n",
       "      <td>MORTGAGE</td>\n",
       "      <td>130504052</td>\n",
       "      <td>w</td>\n",
       "      <td>debt_consolidation</td>\n",
       "      <td>NaN</td>\n",
       "      <td>D5</td>\n",
       "      <td>60 months</td>\n",
       "      <td>Debt consolidation</td>\n",
       "      <td>https://lendingclub.com/browse/loanDetail.acti...</td>\n",
       "      <td>Source Verified</td>\n",
       "      <td>NaN</td>\n",
       "      <td>361xx</td>\n",
       "    </tr>\n",
       "    <tr>\n",
       "      <td>421101</td>\n",
       "      <td>WA</td>\n",
       "      <td>Individual</td>\n",
       "      <td>NaN</td>\n",
       "      <td>Cash</td>\n",
       "      <td>Jan-1998</td>\n",
       "      <td>9 years</td>\n",
       "      <td>Scale Technician</td>\n",
       "      <td>A</td>\n",
       "      <td>RENT</td>\n",
       "      <td>130956066</td>\n",
       "      <td>w</td>\n",
       "      <td>major_purchase</td>\n",
       "      <td>NaN</td>\n",
       "      <td>A4</td>\n",
       "      <td>36 months</td>\n",
       "      <td>Major purchase</td>\n",
       "      <td>https://lendingclub.com/browse/loanDetail.acti...</td>\n",
       "      <td>Source Verified</td>\n",
       "      <td>NaN</td>\n",
       "      <td>988xx</td>\n",
       "    </tr>\n",
       "  </tbody>\n",
       "</table>\n",
       "</div>"
      ],
      "text/plain": [
       "       addr_state application_type desc disbursement_method earliest_cr_line  \\\n",
       "421097         OK       Individual  NaN                Cash         Jan-2009   \n",
       "421098         FL       Individual  NaN                Cash         Jul-1998   \n",
       "421099         NH        Joint App  NaN                Cash         Jul-2007   \n",
       "421100         AL       Individual  NaN                Cash         Mar-1995   \n",
       "421101         WA       Individual  NaN                Cash         Jan-1998   \n",
       "\n",
       "       emp_length           emp_title grade home_ownership         id  \\\n",
       "421097    8 years     General Manager     D           RENT  130954621   \n",
       "421098    2 years        IT Director      B            OWN  130964697   \n",
       "421099   < 1 year    Client services      G           RENT  130955326   \n",
       "421100  10+ years  Asphalt Supervisor     D       MORTGAGE  130504052   \n",
       "421101    9 years    Scale Technician     A           RENT  130956066   \n",
       "\n",
       "       initial_list_status             purpose sec_app_earliest_cr_line  \\\n",
       "421097                   w               other                      NaN   \n",
       "421098                   w  debt_consolidation                      NaN   \n",
       "421099                   w             medical                 Feb-2005   \n",
       "421100                   w  debt_consolidation                      NaN   \n",
       "421101                   w      major_purchase                      NaN   \n",
       "\n",
       "       sub_grade        term               title  \\\n",
       "421097        D4   36 months               Other   \n",
       "421098        B2   36 months  Debt consolidation   \n",
       "421099        G1   60 months    Medical expenses   \n",
       "421100        D5   60 months  Debt consolidation   \n",
       "421101        A4   36 months      Major purchase   \n",
       "\n",
       "                                                      url verification_status  \\\n",
       "421097  https://lendingclub.com/browse/loanDetail.acti...            Verified   \n",
       "421098  https://lendingclub.com/browse/loanDetail.acti...     Source Verified   \n",
       "421099  https://lendingclub.com/browse/loanDetail.acti...        Not Verified   \n",
       "421100  https://lendingclub.com/browse/loanDetail.acti...     Source Verified   \n",
       "421101  https://lendingclub.com/browse/loanDetail.acti...     Source Verified   \n",
       "\n",
       "       verification_status_joint zip_code  \n",
       "421097                       NaN    740xx  \n",
       "421098                       NaN    337xx  \n",
       "421099              Not Verified    030xx  \n",
       "421100                       NaN    361xx  \n",
       "421101                       NaN    988xx  "
      ]
     },
     "execution_count": 77,
     "metadata": {},
     "output_type": "execute_result"
    }
   ],
   "source": [
    "df2.select_dtypes('object').head()  #checking if there are any datatypes assigned wrongly as strings"
   ]
  },
  {
   "cell_type": "markdown",
   "metadata": {},
   "source": [
    "1)Need to change 'earliest_cr_line' & 'sec_app_earliest_cr_line' from strings to dates\n",
    "\n",
    "2)emp_length and id are numeric and their type should be changed to float. In case of emp_length I replace the extreme cases of \"< 1 year\" and \"10+ years\" with \"0 years\" and \"11 years\" respectively to separate these groups from the rest."
   ]
  },
  {
   "cell_type": "code",
   "execution_count": 79,
   "metadata": {},
   "outputs": [],
   "source": [
    "df2['earliest_cr_line'] = pd.to_datetime(df2['earliest_cr_line'], infer_datetime_format=True)\n",
    "df2['sec_app_earliest_cr_line'] = pd.to_datetime(df2['sec_app_earliest_cr_line'], infer_datetime_format=True)\n",
    "\n",
    "df2['emp_length'] = df2['emp_length'].replace({'< 1 year': '0 years', '10+ years': '11 years'})\n",
    "df2['emp_length'] = df2['emp_length'].str.extract('(\\d+)').astype('float')\n",
    "df2['id'] = df2['id'].astype('float')\n"
   ]
  },
  {
   "cell_type": "markdown",
   "metadata": {},
   "source": [
    "## EDA of loan amount"
   ]
  },
  {
   "cell_type": "code",
   "execution_count": 28,
   "metadata": {},
   "outputs": [
    {
     "name": "stdout",
     "output_type": "stream",
     "text": [
      "<class 'pandas.core.frame.DataFrame'>\n",
      "Int64Index: 495242 entries, 421097 to 1611876\n",
      "Columns: 152 entries, id to int_round\n",
      "dtypes: datetime64[ns](1), float64(113), int32(1), object(37)\n",
      "memory usage: 576.2+ MB\n"
     ]
    },
    {
     "name": "stderr",
     "output_type": "stream",
     "text": [
      "C:\\Users\\Prudhvi\\Anaconda3\\lib\\site-packages\\ipykernel_launcher.py:1: SettingWithCopyWarning:\n",
      "\n",
      "\n",
      "A value is trying to be set on a copy of a slice from a DataFrame.\n",
      "Try using .loc[row_indexer,col_indexer] = value instead\n",
      "\n",
      "See the caveats in the documentation: http://pandas.pydata.org/pandas-docs/stable/user_guide/indexing.html#returning-a-view-versus-a-copy\n",
      "\n"
     ]
    },
    {
     "data": {
      "text/plain": [
       "<Figure size 1440x720 with 0 Axes>"
      ]
     },
     "execution_count": 28,
     "metadata": {},
     "output_type": "execute_result"
    },
    {
     "data": {
      "text/plain": [
       "<Figure size 1440x720 with 0 Axes>"
      ]
     },
     "metadata": {},
     "output_type": "display_data"
    }
   ],
   "source": [
    "df1['int_round'] = df1['int_rate'].round(0).astype(int)  #rounding the interest rates\n",
    "df1.info()\n",
    "#creating a figure to plot on\n"
   ]
  },
  {
   "cell_type": "code",
   "execution_count": 32,
   "metadata": {
    "scrolled": true
   },
   "outputs": [
    {
     "data": {
      "text/plain": [
       "Text(0.5, 1.0, 'Loan Amount Distribuition')"
      ]
     },
     "execution_count": 32,
     "metadata": {},
     "output_type": "execute_result"
    },
    {
     "data": {
      "image/png": "[encoded data removed]",
      "text/plain": [
       "<Figure size 1440x1008 with 1 Axes>"
      ]
     },
     "metadata": {
      "needs_background": "light"
     },
     "output_type": "display_data"
    }
   ],
   "source": [
    "loan_amount = df1[\"loan_amnt\"].values\n",
    "funded_amount = df1[\"funded_amnt\"].values\n",
    "investor_funds = df1[\"funded_amnt_inv\"].values\n",
    "\n",
    "plt.figure(figsize=(20,14))\n",
    "\n",
    "#plotting distribution of loan amount\n",
    "plt.subplot(211)\n",
    "g = sns.distplot(loan_amount)\n",
    "g.set_xlabel(\"Loan Amount Value\", fontsize=16)\n",
    "g.set_ylabel(\"Frequency\", fontsize=16)\n",
    "g.set_title(\"Loan Amount Distribuition\", fontsize=20)"
   ]
  },
  {
   "cell_type": "code",
   "execution_count": 38,
   "metadata": {},
   "outputs": [
    {
     "data": {
      "text/plain": [
       "Text(0.5, 1.0, 'Funded Amount Distribution')"
      ]
     },
     "execution_count": 38,
     "metadata": {},
     "output_type": "execute_result"
    },
    {
     "data": {
      "image/png": "[encoded data removed]",
      "text/plain": [
       "<Figure size 1440x1008 with 1 Axes>"
      ]
     },
     "metadata": {
      "needs_background": "light"
     },
     "output_type": "display_data"
    }
   ],
   "source": [
    "#plotting the overall fulfillment rate by the company of the loans requested\n",
    "plt.figure(figsize=(20,14))\n",
    "\n",
    "plt.subplot(212)\n",
    "f = sns.distplot(funded_amount)\n",
    "f.set_xlabel(\"Funded amount value\", fontsize=16)\n",
    "f.set_ylabel(\"Frequency\", fontsize=16)\n",
    "f.set_title(\"Funded Amount Distribution\", fontsize=20)"
   ]
  },
  {
   "cell_type": "code",
   "execution_count": 36,
   "metadata": {},
   "outputs": [
    {
     "data": {
      "text/plain": [
       "Text(0.5, 1.0, 'Investor Funded Amount Distribution')"
      ]
     },
     "execution_count": 36,
     "metadata": {},
     "output_type": "execute_result"
    },
    {
     "data": {
      "image/png": "[encoded data removed]",
      "text/plain": [
       "<Figure size 1440x1008 with 1 Axes>"
      ]
     },
     "metadata": {
      "needs_background": "light"
     },
     "output_type": "display_data"
    }
   ],
   "source": [
    "#plotting the distribution of loan amount fulfillment by investors\n",
    "plt.figure(figsize=(20,14))\n",
    "\n",
    "plt.subplot(212)\n",
    "h = sns.distplot(investor_funds)\n",
    "h.set_xlabel(\"Investor funded amount value\", fontsize=16)\n",
    "h.set_ylabel(\"Frequency\", fontsize=16)\n",
    "h.set_title(\"Investor Funded Amount Distribution\", fontsize=20)"
   ]
  },
  {
   "cell_type": "code",
   "execution_count": 63,
   "metadata": {},
   "outputs": [
    {
     "data": {
      "text/plain": [
       "count    495242.000000\n",
       "mean         12.687654\n",
       "std           5.156466\n",
       "min           5.000000\n",
       "25%           8.000000\n",
       "50%          12.000000\n",
       "75%          16.000000\n",
       "max          31.000000\n",
       "Name: int_round, dtype: float64"
      ]
     },
     "execution_count": 63,
     "metadata": {},
     "output_type": "execute_result"
    }
   ],
   "source": [
    "df1['int_round'].describe()"
   ]
  },
  {
   "cell_type": "code",
   "execution_count": 59,
   "metadata": {},
   "outputs": [
    {
     "data": {
      "image/png": "[encoded data removed]",
      "text/plain": [
       "<Figure size 1440x1152 with 1 Axes>"
      ]
     },
     "metadata": {
      "needs_background": "light"
     },
     "output_type": "display_data"
    }
   ],
   "source": [
    "total = len(df1)\n",
    "plt.figure(figsize=(20,16))\n",
    "plt.subplot(212)\n",
    "g1 = sns.countplot(x=\"int_round\", data=df1, \n",
    "                  color='blue')\n",
    "g1.set_xlabel(\"Loan Interest Rate\", fontsize=16)\n",
    "g1.set_ylabel(\"Count\", fontsize=16)\n",
    "g1.set_title(\"Interest Rate Distribuition\", fontsize=20)\n",
    "sizes=[] # Get highest values in y\n",
    "for p in g1.patches:\n",
    "    height = p.get_height()\n",
    "    sizes.append(height)\n",
    "    g1.text(p.get_x()+p.get_width()/2.,\n",
    "            height + 3,\n",
    "            '{:1.2f}%'.format(height/total*100),\n",
    "            ha=\"center\", fontsize=12) \n",
    "g1.set_ylim(0, max(sizes) * 1.10) # set y limit based on highest heights\n",
    "\n",
    "plt.subplots_adjust(hspace = 0.4,top = 0.9)\n",
    "\n",
    "plt.show()"
   ]
  },
  {
   "cell_type": "markdown",
   "metadata": {},
   "source": [
    "## Checking for missing values"
   ]
  },
  {
   "cell_type": "markdown",
   "metadata": {},
   "source": [
    "Once we are done with a basic analysis of the numerical variables like loan,interest etc we are going to check if there are any missing values in the data."
   ]
  },
  {
   "cell_type": "code",
   "execution_count": 143,
   "metadata": {},
   "outputs": [
    {
     "data": {
      "text/plain": [
       "emp_length                  0.084781\n",
       "sec_app_earliest_cr_line    0.860704\n",
       "dtype: float64"
      ]
     },
     "execution_count": 143,
     "metadata": {},
     "output_type": "execute_result"
    }
   ],
   "source": [
    "nan_mean = df2.isna().mean()\n",
    "nan_mean = nan_mean[nan_mean != 0].sort_values()\n",
    "nan_mean"
   ]
  },
  {
   "cell_type": "code",
   "execution_count": null,
   "metadata": {},
   "outputs": [],
   "source": [
    "df2 = df2.drop(['desc', 'member_id'], axis=1, errors='ignore')"
   ]
  },
  {
   "cell_type": "markdown",
   "metadata": {},
   "source": [
    "Removing these two columns as they are completely empty so let's remove them as there are only missing values in them"
   ]
  },
  {
   "cell_type": "markdown",
   "metadata": {},
   "source": [
    "## Handling Missing values\n",
    "Taking care of missing values in the above columns by filling them appropriately.\n",
    "There are some categorical variables which can be filled with empty strings.To check which ones are categorical variables we can check in the cleaned dataset and take a difference of sets twice."
   ]
  },
  {
   "cell_type": "code",
   "execution_count": 128,
   "metadata": {
    "scrolled": true
   },
   "outputs": [],
   "source": [
    "m=pd.DataFrame(nan_mean)\n",
    "m.index\n",
    "f=list(m.index)\n",
    "f\n",
    "cat_cols=df2.select_dtypes('object').columns.values"
   ]
  },
  {
   "cell_type": "code",
   "execution_count": 135,
   "metadata": {},
   "outputs": [
    {
     "data": {
      "text/plain": [
       "array(['emp_title', 'verification_status_joint'], dtype='<U35')"
      ]
     },
     "execution_count": 135,
     "metadata": {},
     "output_type": "execute_result"
    }
   ],
   "source": [
    "#finding out which are categorical variables from f\n",
    "set1=np.setdiff1d(f,cat_cols)\n",
    "set2=np.setdiff1d(f,set1)\n",
    "set2"
   ]
  },
  {
   "cell_type": "markdown",
   "metadata": {},
   "source": [
    "We find that there are two categorical variables,so their missing values can be filled by an empty string"
   ]
  },
  {
   "cell_type": "code",
   "execution_count": 142,
   "metadata": {},
   "outputs": [],
   "source": [
    "fill_empty = ['emp_title', 'verification_status_joint']\n",
    "fill_max = ['bc_open_to_buy', 'mo_sin_old_il_acct', 'mths_since_last_delinq',\n",
    "            'mths_since_last_major_derog', 'mths_since_last_record',\n",
    "            'mths_since_rcnt_il', 'mths_since_recent_bc', 'mths_since_recent_bc_dlq',\n",
    "            'mths_since_recent_inq', 'mths_since_recent_revol_delinq',\n",
    "            'pct_tl_nvr_dlq','sec_app_mths_since_last_major_derog']\n",
    "fill_min = np.setdiff1d(df2.columns.values, np.append(fill_empty, fill_max))\n",
    "\n",
    "\n",
    "df2[fill_empty] = df2[fill_empty].fillna('')\n",
    "df2[fill_max] = df2[fill_max].fillna(X[fill_max].max())\n",
    "df2[fill_min] = df2[fill_min].fillna(X[fill_min].min()) \n"
   ]
  },
  {
   "cell_type": "markdown",
   "metadata": {},
   "source": [
    "There are some numerical variables which have to be filled with maximum of their respective columns and there are some which have to be filled with min of their column.\n",
    "\n",
    "For example the 'feature mths_since_last_record' indicates the number of months since the last record (like bankruptcy, foreclosure, tax liens, etc.) so if missing, one should assume that no records were made and the number of months since the \"last\" record should be a maximum.\n",
    "\n",
    " the feature emp_length indicates the number of working years so if missing, one should assume that the borrower never worked and the number of working years should be a minimum.\n"
   ]
  },
  {
   "cell_type": "markdown",
   "metadata": {},
   "source": [
    "## Checking for multicollinearity"
   ]
  },
  {
   "cell_type": "code",
   "execution_count": 140,
   "metadata": {
    "scrolled": true
   },
   "outputs": [
    {
     "data": {
      "text/plain": [
       "acc_now_delinq                     2\n",
       "num_tl_30dpd                       2\n",
       "inq_last_6mths                     6\n",
       "sec_app_inq_last_6mths             7\n",
       "open_il_12m                        8\n",
       "                               ...  \n",
       "total_bal_il                  115553\n",
       "total_il_high_credit_limit    128691\n",
       "total_bal_ex_mort             139900\n",
       "tot_cur_bal                   254794\n",
       "tot_hi_cred_lim               266282\n",
       "Length: 88, dtype: int64"
      ]
     },
     "execution_count": 140,
     "metadata": {},
     "output_type": "execute_result"
    }
   ],
   "source": [
    "#getting numerical values for multicollinearity\n",
    "numerical = df2.select_dtypes('number').columns.values\n",
    "df2[numerical].nunique().sort_values()"
   ]
  },
  {
   "cell_type": "markdown",
   "metadata": {},
   "source": [
    " We can see that number id has 0 values and id has amount of values equivalent to number of rows so we have to remove these two as they are redundant"
   ]
  },
  {
   "cell_type": "code",
   "execution_count": 136,
   "metadata": {},
   "outputs": [],
   "source": [
    "df2 = df2.drop(['num_tl_120dpd_2m', 'id'], axis=1, errors='ignore')"
   ]
  },
  {
   "cell_type": "code",
   "execution_count": 146,
   "metadata": {},
   "outputs": [
    {
     "data": {
      "text/plain": [
       "['bc_open_to_buy',\n",
       " 'mo_sin_old_il_acct',\n",
       " 'mths_since_last_delinq',\n",
       " 'mths_since_last_major_derog',\n",
       " 'mths_since_last_record',\n",
       " 'mths_since_rcnt_il',\n",
       " 'mths_since_recent_bc',\n",
       " 'mths_since_recent_bc_dlq',\n",
       " 'mths_since_recent_inq',\n",
       " 'mths_since_recent_revol_delinq',\n",
       " 'pct_tl_nvr_dlq',\n",
       " 'sec_app_mths_since_last_major_derog']"
      ]
     },
     "execution_count": 146,
     "metadata": {},
     "output_type": "execute_result"
    }
   ],
   "source": [
    "fill_max"
   ]
  },
  {
   "cell_type": "code",
   "execution_count": 138,
   "metadata": {},
   "outputs": [
    {
     "ename": "ValueError",
     "evalue": "array must not contain infs or NaNs",
     "output_type": "error",
     "traceback": [
      "\u001b[1;31m---------------------------------------------------------------------------\u001b[0m",
      "\u001b[1;31mValueError\u001b[0m                                Traceback (most recent call last)",
      "\u001b[1;32m<ipython-input-138-59a4cc8daa58>\u001b[0m in \u001b[0;36m<module>\u001b[1;34m\u001b[0m\n\u001b[0;32m      4\u001b[0m \u001b[0mcorr_num_feat\u001b[0m \u001b[1;33m=\u001b[0m \u001b[0mnp\u001b[0m\u001b[1;33m.\u001b[0m\u001b[0marray\u001b[0m\u001b[1;33m(\u001b[0m\u001b[1;33m[\u001b[0m\u001b[1;33m]\u001b[0m\u001b[1;33m)\u001b[0m\u001b[1;33m\u001b[0m\u001b[1;33m\u001b[0m\u001b[0m\n\u001b[0;32m      5\u001b[0m \u001b[1;32mfor\u001b[0m \u001b[0mcomb\u001b[0m \u001b[1;32min\u001b[0m \u001b[0mcomb_num_feat\u001b[0m\u001b[1;33m:\u001b[0m\u001b[1;33m\u001b[0m\u001b[1;33m\u001b[0m\u001b[0m\n\u001b[1;32m----> 6\u001b[1;33m     \u001b[0mcorr\u001b[0m \u001b[1;33m=\u001b[0m \u001b[0mpearsonr\u001b[0m\u001b[1;33m(\u001b[0m\u001b[0mdf2\u001b[0m\u001b[1;33m[\u001b[0m\u001b[0mcomb\u001b[0m\u001b[1;33m[\u001b[0m\u001b[1;36m0\u001b[0m\u001b[1;33m]\u001b[0m\u001b[1;33m]\u001b[0m\u001b[1;33m,\u001b[0m \u001b[0mdf2\u001b[0m\u001b[1;33m[\u001b[0m\u001b[0mcomb\u001b[0m\u001b[1;33m[\u001b[0m\u001b[1;36m1\u001b[0m\u001b[1;33m]\u001b[0m\u001b[1;33m]\u001b[0m\u001b[1;33m)\u001b[0m\u001b[1;33m[\u001b[0m\u001b[1;36m0\u001b[0m\u001b[1;33m]\u001b[0m\u001b[1;33m\u001b[0m\u001b[1;33m\u001b[0m\u001b[0m\n\u001b[0m\u001b[0;32m      7\u001b[0m     \u001b[0mcorr_num_feat\u001b[0m \u001b[1;33m=\u001b[0m \u001b[0mnp\u001b[0m\u001b[1;33m.\u001b[0m\u001b[0mappend\u001b[0m\u001b[1;33m(\u001b[0m\u001b[0mcorr_num_feat\u001b[0m\u001b[1;33m,\u001b[0m \u001b[0mcorr\u001b[0m\u001b[1;33m)\u001b[0m\u001b[1;33m\u001b[0m\u001b[1;33m\u001b[0m\u001b[0m\n",
      "\u001b[1;32m~\\Anaconda3\\lib\\site-packages\\scipy\\stats\\stats.py\u001b[0m in \u001b[0;36mpearsonr\u001b[1;34m(x, y)\u001b[0m\n\u001b[0;32m   3529\u001b[0m     \u001b[1;31m# [-5e210, 5e210, 3e200, -3e200]\u001b[0m\u001b[1;33m\u001b[0m\u001b[1;33m\u001b[0m\u001b[1;33m\u001b[0m\u001b[0m\n\u001b[0;32m   3530\u001b[0m     \u001b[0mnormxm\u001b[0m \u001b[1;33m=\u001b[0m \u001b[0mlinalg\u001b[0m\u001b[1;33m.\u001b[0m\u001b[0mnorm\u001b[0m\u001b[1;33m(\u001b[0m\u001b[0mxm\u001b[0m\u001b[1;33m)\u001b[0m\u001b[1;33m\u001b[0m\u001b[1;33m\u001b[0m\u001b[0m\n\u001b[1;32m-> 3531\u001b[1;33m     \u001b[0mnormym\u001b[0m \u001b[1;33m=\u001b[0m \u001b[0mlinalg\u001b[0m\u001b[1;33m.\u001b[0m\u001b[0mnorm\u001b[0m\u001b[1;33m(\u001b[0m\u001b[0mym\u001b[0m\u001b[1;33m)\u001b[0m\u001b[1;33m\u001b[0m\u001b[1;33m\u001b[0m\u001b[0m\n\u001b[0m\u001b[0;32m   3532\u001b[0m \u001b[1;33m\u001b[0m\u001b[0m\n\u001b[0;32m   3533\u001b[0m     \u001b[0mthreshold\u001b[0m \u001b[1;33m=\u001b[0m \u001b[1;36m1e-13\u001b[0m\u001b[1;33m\u001b[0m\u001b[1;33m\u001b[0m\u001b[0m\n",
      "\u001b[1;32m~\\Anaconda3\\lib\\site-packages\\scipy\\linalg\\misc.py\u001b[0m in \u001b[0;36mnorm\u001b[1;34m(a, ord, axis, keepdims, check_finite)\u001b[0m\n\u001b[0;32m    140\u001b[0m     \u001b[1;31m# Differs from numpy only in non-finite handling and the use of blas.\u001b[0m\u001b[1;33m\u001b[0m\u001b[1;33m\u001b[0m\u001b[1;33m\u001b[0m\u001b[0m\n\u001b[0;32m    141\u001b[0m     \u001b[1;32mif\u001b[0m \u001b[0mcheck_finite\u001b[0m\u001b[1;33m:\u001b[0m\u001b[1;33m\u001b[0m\u001b[1;33m\u001b[0m\u001b[0m\n\u001b[1;32m--> 142\u001b[1;33m         \u001b[0ma\u001b[0m \u001b[1;33m=\u001b[0m \u001b[0mnp\u001b[0m\u001b[1;33m.\u001b[0m\u001b[0masarray_chkfinite\u001b[0m\u001b[1;33m(\u001b[0m\u001b[0ma\u001b[0m\u001b[1;33m)\u001b[0m\u001b[1;33m\u001b[0m\u001b[1;33m\u001b[0m\u001b[0m\n\u001b[0m\u001b[0;32m    143\u001b[0m     \u001b[1;32melse\u001b[0m\u001b[1;33m:\u001b[0m\u001b[1;33m\u001b[0m\u001b[1;33m\u001b[0m\u001b[0m\n\u001b[0;32m    144\u001b[0m         \u001b[0ma\u001b[0m \u001b[1;33m=\u001b[0m \u001b[0mnp\u001b[0m\u001b[1;33m.\u001b[0m\u001b[0masarray\u001b[0m\u001b[1;33m(\u001b[0m\u001b[0ma\u001b[0m\u001b[1;33m)\u001b[0m\u001b[1;33m\u001b[0m\u001b[1;33m\u001b[0m\u001b[0m\n",
      "\u001b[1;32m~\\Anaconda3\\lib\\site-packages\\numpy\\lib\\function_base.py\u001b[0m in \u001b[0;36masarray_chkfinite\u001b[1;34m(a, dtype, order)\u001b[0m\n\u001b[0;32m    496\u001b[0m     \u001b[1;32mif\u001b[0m \u001b[0ma\u001b[0m\u001b[1;33m.\u001b[0m\u001b[0mdtype\u001b[0m\u001b[1;33m.\u001b[0m\u001b[0mchar\u001b[0m \u001b[1;32min\u001b[0m \u001b[0mtypecodes\u001b[0m\u001b[1;33m[\u001b[0m\u001b[1;34m'AllFloat'\u001b[0m\u001b[1;33m]\u001b[0m \u001b[1;32mand\u001b[0m \u001b[1;32mnot\u001b[0m \u001b[0mnp\u001b[0m\u001b[1;33m.\u001b[0m\u001b[0misfinite\u001b[0m\u001b[1;33m(\u001b[0m\u001b[0ma\u001b[0m\u001b[1;33m)\u001b[0m\u001b[1;33m.\u001b[0m\u001b[0mall\u001b[0m\u001b[1;33m(\u001b[0m\u001b[1;33m)\u001b[0m\u001b[1;33m:\u001b[0m\u001b[1;33m\u001b[0m\u001b[1;33m\u001b[0m\u001b[0m\n\u001b[0;32m    497\u001b[0m         raise ValueError(\n\u001b[1;32m--> 498\u001b[1;33m             \"array must not contain infs or NaNs\")\n\u001b[0m\u001b[0;32m    499\u001b[0m     \u001b[1;32mreturn\u001b[0m \u001b[0ma\u001b[0m\u001b[1;33m\u001b[0m\u001b[1;33m\u001b[0m\u001b[0m\n\u001b[0;32m    500\u001b[0m \u001b[1;33m\u001b[0m\u001b[0m\n",
      "\u001b[1;31mValueError\u001b[0m: array must not contain infs or NaNs"
     ]
    }
   ],
   "source": [
    "#calculating collinearity of all the remaining pairs \n",
    "#num_feat = df2.select_dtypes('number').columns.values\n",
    "#comb_num_feat = np.array(list(combinations(num_feat, 2)))\n",
    "#corr_num_feat = np.array([])\n",
    "#for comb in comb_num_feat:\n",
    "#   corr = pearsonr(df2[comb[0]], df2[comb[1]])[0]\n",
    "#    corr_num_feat = np.append(corr_num_feat, corr)"
   ]
  },
  {
   "cell_type": "code",
   "execution_count": 216,
   "metadata": {},
   "outputs": [
    {
     "data": {
      "text/plain": [
       "Series([], dtype: float64)"
      ]
     },
     "execution_count": 216,
     "metadata": {},
     "output_type": "execute_result"
    }
   ],
   "source": [
    "#checking again for missing values\n",
    "nan_mean = df2.isna().mean()\n",
    "nan_mean = nan_mean[nan_mean != 0].sort_values()\n",
    "nan_mean"
   ]
  },
  {
   "cell_type": "markdown",
   "metadata": {},
   "source": [
    "Removing missing values again"
   ]
  },
  {
   "cell_type": "code",
   "execution_count": 151,
   "metadata": {},
   "outputs": [],
   "source": [
    "\n",
    "df2['emp_length'] = df2['emp_length'].fillna(0)\n",
    "df2['sec_app_earliest_cr_line'] = df2['sec_app_earliest_cr_line'].fillna('')\n"
   ]
  },
  {
   "cell_type": "code",
   "execution_count": 191,
   "metadata": {},
   "outputs": [
    {
     "data": {
      "text/plain": [
       "Series([], dtype: float64)"
      ]
     },
     "execution_count": 191,
     "metadata": {},
     "output_type": "execute_result"
    }
   ],
   "source": [
    "#checking again for missing values\n",
    "nan_mean = df2.isna().mean()\n",
    "nan_mean = nan_mean[nan_mean != 0].sort_values()\n",
    "nan_mean"
   ]
  },
  {
   "cell_type": "code",
   "execution_count": 178,
   "metadata": {
    "scrolled": true
   },
   "outputs": [
    {
     "data": {
      "text/html": [
       "<div>\n",
       "<style scoped>\n",
       "    .dataframe tbody tr th:only-of-type {\n",
       "        vertical-align: middle;\n",
       "    }\n",
       "\n",
       "    .dataframe tbody tr th {\n",
       "        vertical-align: top;\n",
       "    }\n",
       "\n",
       "    .dataframe thead th {\n",
       "        text-align: right;\n",
       "    }\n",
       "</style>\n",
       "<table border=\"1\" class=\"dataframe\">\n",
       "  <thead>\n",
       "    <tr style=\"text-align: right;\">\n",
       "      <th></th>\n",
       "      <th>acc_now_delinq</th>\n",
       "      <th>acc_open_past_24mths</th>\n",
       "      <th>all_util</th>\n",
       "      <th>annual_inc</th>\n",
       "      <th>annual_inc_joint</th>\n",
       "      <th>avg_cur_bal</th>\n",
       "      <th>bc_open_to_buy</th>\n",
       "      <th>bc_util</th>\n",
       "      <th>chargeoff_within_12_mths</th>\n",
       "      <th>collections_12_mths_ex_med</th>\n",
       "      <th>...</th>\n",
       "      <th>tot_coll_amt</th>\n",
       "      <th>tot_cur_bal</th>\n",
       "      <th>tot_hi_cred_lim</th>\n",
       "      <th>total_acc</th>\n",
       "      <th>total_bal_ex_mort</th>\n",
       "      <th>total_bal_il</th>\n",
       "      <th>total_bc_limit</th>\n",
       "      <th>total_cu_tl</th>\n",
       "      <th>total_il_high_credit_limit</th>\n",
       "      <th>total_rev_hi_lim</th>\n",
       "    </tr>\n",
       "  </thead>\n",
       "  <tbody>\n",
       "    <tr>\n",
       "      <td>acc_now_delinq</td>\n",
       "      <td>1.000000</td>\n",
       "      <td>0.000595</td>\n",
       "      <td>0.001577</td>\n",
       "      <td>0.002223</td>\n",
       "      <td>-0.002342</td>\n",
       "      <td>0.002735</td>\n",
       "      <td>-0.001785</td>\n",
       "      <td>0.004233</td>\n",
       "      <td>-0.000531</td>\n",
       "      <td>0.006732</td>\n",
       "      <td>...</td>\n",
       "      <td>-0.000122</td>\n",
       "      <td>0.003186</td>\n",
       "      <td>0.003238</td>\n",
       "      <td>0.001606</td>\n",
       "      <td>0.003323</td>\n",
       "      <td>0.003257</td>\n",
       "      <td>0.000154</td>\n",
       "      <td>-0.002363</td>\n",
       "      <td>0.003766</td>\n",
       "      <td>0.002094</td>\n",
       "    </tr>\n",
       "    <tr>\n",
       "      <td>acc_open_past_24mths</td>\n",
       "      <td>0.000595</td>\n",
       "      <td>1.000000</td>\n",
       "      <td>-0.048572</td>\n",
       "      <td>0.067133</td>\n",
       "      <td>-0.021163</td>\n",
       "      <td>-0.038493</td>\n",
       "      <td>-0.002213</td>\n",
       "      <td>-0.190753</td>\n",
       "      <td>0.007842</td>\n",
       "      <td>0.010586</td>\n",
       "      <td>...</td>\n",
       "      <td>0.005910</td>\n",
       "      <td>0.148607</td>\n",
       "      <td>0.161565</td>\n",
       "      <td>0.451676</td>\n",
       "      <td>0.167964</td>\n",
       "      <td>0.198260</td>\n",
       "      <td>0.118501</td>\n",
       "      <td>0.166048</td>\n",
       "      <td>0.187366</td>\n",
       "      <td>0.166119</td>\n",
       "    </tr>\n",
       "    <tr>\n",
       "      <td>all_util</td>\n",
       "      <td>0.001577</td>\n",
       "      <td>-0.048572</td>\n",
       "      <td>1.000000</td>\n",
       "      <td>0.027808</td>\n",
       "      <td>0.017138</td>\n",
       "      <td>0.113275</td>\n",
       "      <td>-0.106666</td>\n",
       "      <td>0.591508</td>\n",
       "      <td>-0.004294</td>\n",
       "      <td>-0.018101</td>\n",
       "      <td>...</td>\n",
       "      <td>-0.002550</td>\n",
       "      <td>0.118365</td>\n",
       "      <td>0.036605</td>\n",
       "      <td>0.003324</td>\n",
       "      <td>0.293198</td>\n",
       "      <td>0.276746</td>\n",
       "      <td>-0.265226</td>\n",
       "      <td>0.062649</td>\n",
       "      <td>0.226714</td>\n",
       "      <td>-0.226508</td>\n",
       "    </tr>\n",
       "    <tr>\n",
       "      <td>annual_inc</td>\n",
       "      <td>0.002223</td>\n",
       "      <td>0.067133</td>\n",
       "      <td>0.027808</td>\n",
       "      <td>1.000000</td>\n",
       "      <td>0.055874</td>\n",
       "      <td>0.237363</td>\n",
       "      <td>0.019549</td>\n",
       "      <td>0.036268</td>\n",
       "      <td>0.004877</td>\n",
       "      <td>-0.005136</td>\n",
       "      <td>...</td>\n",
       "      <td>-0.000972</td>\n",
       "      <td>0.332118</td>\n",
       "      <td>0.351816</td>\n",
       "      <td>0.165724</td>\n",
       "      <td>0.277255</td>\n",
       "      <td>0.184499</td>\n",
       "      <td>0.239032</td>\n",
       "      <td>0.050461</td>\n",
       "      <td>0.240206</td>\n",
       "      <td>0.260952</td>\n",
       "    </tr>\n",
       "    <tr>\n",
       "      <td>annual_inc_joint</td>\n",
       "      <td>-0.002342</td>\n",
       "      <td>-0.021163</td>\n",
       "      <td>0.017138</td>\n",
       "      <td>0.055874</td>\n",
       "      <td>1.000000</td>\n",
       "      <td>0.163066</td>\n",
       "      <td>0.024490</td>\n",
       "      <td>0.016666</td>\n",
       "      <td>-0.008340</td>\n",
       "      <td>-0.017162</td>\n",
       "      <td>...</td>\n",
       "      <td>-0.002396</td>\n",
       "      <td>0.172602</td>\n",
       "      <td>0.175506</td>\n",
       "      <td>0.037858</td>\n",
       "      <td>0.106639</td>\n",
       "      <td>0.083083</td>\n",
       "      <td>0.043821</td>\n",
       "      <td>0.057242</td>\n",
       "      <td>0.110927</td>\n",
       "      <td>0.068366</td>\n",
       "    </tr>\n",
       "    <tr>\n",
       "      <td>...</td>\n",
       "      <td>...</td>\n",
       "      <td>...</td>\n",
       "      <td>...</td>\n",
       "      <td>...</td>\n",
       "      <td>...</td>\n",
       "      <td>...</td>\n",
       "      <td>...</td>\n",
       "      <td>...</td>\n",
       "      <td>...</td>\n",
       "      <td>...</td>\n",
       "      <td>...</td>\n",
       "      <td>...</td>\n",
       "      <td>...</td>\n",
       "      <td>...</td>\n",
       "      <td>...</td>\n",
       "      <td>...</td>\n",
       "      <td>...</td>\n",
       "      <td>...</td>\n",
       "      <td>...</td>\n",
       "      <td>...</td>\n",
       "      <td>...</td>\n",
       "    </tr>\n",
       "    <tr>\n",
       "      <td>total_bal_il</td>\n",
       "      <td>0.003257</td>\n",
       "      <td>0.198260</td>\n",
       "      <td>0.276746</td>\n",
       "      <td>0.184499</td>\n",
       "      <td>0.083083</td>\n",
       "      <td>0.223751</td>\n",
       "      <td>0.008451</td>\n",
       "      <td>0.026284</td>\n",
       "      <td>0.000793</td>\n",
       "      <td>-0.004340</td>\n",
       "      <td>...</td>\n",
       "      <td>-0.000745</td>\n",
       "      <td>0.421209</td>\n",
       "      <td>0.393826</td>\n",
       "      <td>0.433172</td>\n",
       "      <td>0.903837</td>\n",
       "      <td>1.000000</td>\n",
       "      <td>0.112213</td>\n",
       "      <td>0.143048</td>\n",
       "      <td>0.950167</td>\n",
       "      <td>0.126052</td>\n",
       "    </tr>\n",
       "    <tr>\n",
       "      <td>total_bc_limit</td>\n",
       "      <td>0.000154</td>\n",
       "      <td>0.118501</td>\n",
       "      <td>-0.265226</td>\n",
       "      <td>0.239032</td>\n",
       "      <td>0.043821</td>\n",
       "      <td>0.092530</td>\n",
       "      <td>0.121157</td>\n",
       "      <td>-0.188945</td>\n",
       "      <td>-0.020673</td>\n",
       "      <td>-0.029523</td>\n",
       "      <td>...</td>\n",
       "      <td>-0.006122</td>\n",
       "      <td>0.298542</td>\n",
       "      <td>0.406877</td>\n",
       "      <td>0.356529</td>\n",
       "      <td>0.300508</td>\n",
       "      <td>0.112213</td>\n",
       "      <td>1.000000</td>\n",
       "      <td>0.000692</td>\n",
       "      <td>0.170787</td>\n",
       "      <td>0.819125</td>\n",
       "    </tr>\n",
       "    <tr>\n",
       "      <td>total_cu_tl</td>\n",
       "      <td>-0.002363</td>\n",
       "      <td>0.166048</td>\n",
       "      <td>0.062649</td>\n",
       "      <td>0.050461</td>\n",
       "      <td>0.057242</td>\n",
       "      <td>0.085895</td>\n",
       "      <td>0.072405</td>\n",
       "      <td>-0.019260</td>\n",
       "      <td>0.004366</td>\n",
       "      <td>-0.006074</td>\n",
       "      <td>...</td>\n",
       "      <td>-0.001974</td>\n",
       "      <td>0.151993</td>\n",
       "      <td>0.157469</td>\n",
       "      <td>0.312378</td>\n",
       "      <td>0.153063</td>\n",
       "      <td>0.143048</td>\n",
       "      <td>0.000692</td>\n",
       "      <td>1.000000</td>\n",
       "      <td>0.173405</td>\n",
       "      <td>0.083176</td>\n",
       "    </tr>\n",
       "    <tr>\n",
       "      <td>total_il_high_credit_limit</td>\n",
       "      <td>0.003766</td>\n",
       "      <td>0.187366</td>\n",
       "      <td>0.226714</td>\n",
       "      <td>0.240206</td>\n",
       "      <td>0.110927</td>\n",
       "      <td>0.242572</td>\n",
       "      <td>0.014526</td>\n",
       "      <td>0.047126</td>\n",
       "      <td>0.002215</td>\n",
       "      <td>-0.005493</td>\n",
       "      <td>...</td>\n",
       "      <td>-0.001484</td>\n",
       "      <td>0.461592</td>\n",
       "      <td>0.463492</td>\n",
       "      <td>0.460200</td>\n",
       "      <td>0.888667</td>\n",
       "      <td>0.950167</td>\n",
       "      <td>0.170787</td>\n",
       "      <td>0.173405</td>\n",
       "      <td>1.000000</td>\n",
       "      <td>0.185426</td>\n",
       "    </tr>\n",
       "    <tr>\n",
       "      <td>total_rev_hi_lim</td>\n",
       "      <td>0.002094</td>\n",
       "      <td>0.166119</td>\n",
       "      <td>-0.226508</td>\n",
       "      <td>0.260952</td>\n",
       "      <td>0.068366</td>\n",
       "      <td>0.159093</td>\n",
       "      <td>0.110558</td>\n",
       "      <td>-0.145541</td>\n",
       "      <td>-0.014555</td>\n",
       "      <td>-0.025314</td>\n",
       "      <td>...</td>\n",
       "      <td>-0.005106</td>\n",
       "      <td>0.393265</td>\n",
       "      <td>0.497150</td>\n",
       "      <td>0.404349</td>\n",
       "      <td>0.431944</td>\n",
       "      <td>0.126052</td>\n",
       "      <td>0.819125</td>\n",
       "      <td>0.083176</td>\n",
       "      <td>0.185426</td>\n",
       "      <td>1.000000</td>\n",
       "    </tr>\n",
       "  </tbody>\n",
       "</table>\n",
       "<p>88 rows × 88 columns</p>\n",
       "</div>"
      ],
      "text/plain": [
       "                            acc_now_delinq  acc_open_past_24mths  all_util  \\\n",
       "acc_now_delinq                    1.000000              0.000595  0.001577   \n",
       "acc_open_past_24mths              0.000595              1.000000 -0.048572   \n",
       "all_util                          0.001577             -0.048572  1.000000   \n",
       "annual_inc                        0.002223              0.067133  0.027808   \n",
       "annual_inc_joint                 -0.002342             -0.021163  0.017138   \n",
       "...                                    ...                   ...       ...   \n",
       "total_bal_il                      0.003257              0.198260  0.276746   \n",
       "total_bc_limit                    0.000154              0.118501 -0.265226   \n",
       "total_cu_tl                      -0.002363              0.166048  0.062649   \n",
       "total_il_high_credit_limit        0.003766              0.187366  0.226714   \n",
       "total_rev_hi_lim                  0.002094              0.166119 -0.226508   \n",
       "\n",
       "                            annual_inc  annual_inc_joint  avg_cur_bal  \\\n",
       "acc_now_delinq                0.002223         -0.002342     0.002735   \n",
       "acc_open_past_24mths          0.067133         -0.021163    -0.038493   \n",
       "all_util                      0.027808          0.017138     0.113275   \n",
       "annual_inc                    1.000000          0.055874     0.237363   \n",
       "annual_inc_joint              0.055874          1.000000     0.163066   \n",
       "...                                ...               ...          ...   \n",
       "total_bal_il                  0.184499          0.083083     0.223751   \n",
       "total_bc_limit                0.239032          0.043821     0.092530   \n",
       "total_cu_tl                   0.050461          0.057242     0.085895   \n",
       "total_il_high_credit_limit    0.240206          0.110927     0.242572   \n",
       "total_rev_hi_lim              0.260952          0.068366     0.159093   \n",
       "\n",
       "                            bc_open_to_buy   bc_util  \\\n",
       "acc_now_delinq                   -0.001785  0.004233   \n",
       "acc_open_past_24mths             -0.002213 -0.190753   \n",
       "all_util                         -0.106666  0.591508   \n",
       "annual_inc                        0.019549  0.036268   \n",
       "annual_inc_joint                  0.024490  0.016666   \n",
       "...                                    ...       ...   \n",
       "total_bal_il                      0.008451  0.026284   \n",
       "total_bc_limit                    0.121157 -0.188945   \n",
       "total_cu_tl                       0.072405 -0.019260   \n",
       "total_il_high_credit_limit        0.014526  0.047126   \n",
       "total_rev_hi_lim                  0.110558 -0.145541   \n",
       "\n",
       "                            chargeoff_within_12_mths  \\\n",
       "acc_now_delinq                             -0.000531   \n",
       "acc_open_past_24mths                        0.007842   \n",
       "all_util                                   -0.004294   \n",
       "annual_inc                                  0.004877   \n",
       "annual_inc_joint                           -0.008340   \n",
       "...                                              ...   \n",
       "total_bal_il                                0.000793   \n",
       "total_bc_limit                             -0.020673   \n",
       "total_cu_tl                                 0.004366   \n",
       "total_il_high_credit_limit                  0.002215   \n",
       "total_rev_hi_lim                           -0.014555   \n",
       "\n",
       "                            collections_12_mths_ex_med  ...  tot_coll_amt  \\\n",
       "acc_now_delinq                                0.006732  ...     -0.000122   \n",
       "acc_open_past_24mths                          0.010586  ...      0.005910   \n",
       "all_util                                     -0.018101  ...     -0.002550   \n",
       "annual_inc                                   -0.005136  ...     -0.000972   \n",
       "annual_inc_joint                             -0.017162  ...     -0.002396   \n",
       "...                                                ...  ...           ...   \n",
       "total_bal_il                                 -0.004340  ...     -0.000745   \n",
       "total_bc_limit                               -0.029523  ...     -0.006122   \n",
       "total_cu_tl                                  -0.006074  ...     -0.001974   \n",
       "total_il_high_credit_limit                   -0.005493  ...     -0.001484   \n",
       "total_rev_hi_lim                             -0.025314  ...     -0.005106   \n",
       "\n",
       "                            tot_cur_bal  tot_hi_cred_lim  total_acc  \\\n",
       "acc_now_delinq                 0.003186         0.003238   0.001606   \n",
       "acc_open_past_24mths           0.148607         0.161565   0.451676   \n",
       "all_util                       0.118365         0.036605   0.003324   \n",
       "annual_inc                     0.332118         0.351816   0.165724   \n",
       "annual_inc_joint               0.172602         0.175506   0.037858   \n",
       "...                                 ...              ...        ...   \n",
       "total_bal_il                   0.421209         0.393826   0.433172   \n",
       "total_bc_limit                 0.298542         0.406877   0.356529   \n",
       "total_cu_tl                    0.151993         0.157469   0.312378   \n",
       "total_il_high_credit_limit     0.461592         0.463492   0.460200   \n",
       "total_rev_hi_lim               0.393265         0.497150   0.404349   \n",
       "\n",
       "                            total_bal_ex_mort  total_bal_il  total_bc_limit  \\\n",
       "acc_now_delinq                       0.003323      0.003257        0.000154   \n",
       "acc_open_past_24mths                 0.167964      0.198260        0.118501   \n",
       "all_util                             0.293198      0.276746       -0.265226   \n",
       "annual_inc                           0.277255      0.184499        0.239032   \n",
       "annual_inc_joint                     0.106639      0.083083        0.043821   \n",
       "...                                       ...           ...             ...   \n",
       "total_bal_il                         0.903837      1.000000        0.112213   \n",
       "total_bc_limit                       0.300508      0.112213        1.000000   \n",
       "total_cu_tl                          0.153063      0.143048        0.000692   \n",
       "total_il_high_credit_limit           0.888667      0.950167        0.170787   \n",
       "total_rev_hi_lim                     0.431944      0.126052        0.819125   \n",
       "\n",
       "                            total_cu_tl  total_il_high_credit_limit  \\\n",
       "acc_now_delinq                -0.002363                    0.003766   \n",
       "acc_open_past_24mths           0.166048                    0.187366   \n",
       "all_util                       0.062649                    0.226714   \n",
       "annual_inc                     0.050461                    0.240206   \n",
       "annual_inc_joint               0.057242                    0.110927   \n",
       "...                                 ...                         ...   \n",
       "total_bal_il                   0.143048                    0.950167   \n",
       "total_bc_limit                 0.000692                    0.170787   \n",
       "total_cu_tl                    1.000000                    0.173405   \n",
       "total_il_high_credit_limit     0.173405                    1.000000   \n",
       "total_rev_hi_lim               0.083176                    0.185426   \n",
       "\n",
       "                            total_rev_hi_lim  \n",
       "acc_now_delinq                      0.002094  \n",
       "acc_open_past_24mths                0.166119  \n",
       "all_util                           -0.226508  \n",
       "annual_inc                          0.260952  \n",
       "annual_inc_joint                    0.068366  \n",
       "...                                      ...  \n",
       "total_bal_il                        0.126052  \n",
       "total_bc_limit                      0.819125  \n",
       "total_cu_tl                         0.083176  \n",
       "total_il_high_credit_limit          0.185426  \n",
       "total_rev_hi_lim                    1.000000  \n",
       "\n",
       "[88 rows x 88 columns]"
      ]
     },
     "execution_count": 178,
     "metadata": {},
     "output_type": "execute_result"
    }
   ],
   "source": [
    "#calculating collinearity of all the remaining pairs \n",
    "corr_matrix=df2.corr()\n",
    "corr_matrix"
   ]
  },
  {
   "cell_type": "code",
   "execution_count": 192,
   "metadata": {},
   "outputs": [],
   "source": [
    "num_feat = df2.select_dtypes('number').columns.values\n",
    "comb_num_feat = np.array(list(combinations(num_feat, 2)))\n",
    "corr_num_feat = np.array([])\n",
    "for comb in comb_num_feat:\n",
    "    corr = pearsonr(df2[comb[0]], df2[comb[1]])[0]\n",
    "    corr_num_feat = np.append(corr_num_feat, corr)"
   ]
  },
  {
   "cell_type": "code",
   "execution_count": 193,
   "metadata": {},
   "outputs": [
    {
     "data": {
      "text/plain": [
       "array([['acc_now_delinq', 'num_tl_30dpd'],\n",
       "       ['fico_range_high', 'fico_range_low'],\n",
       "       ['funded_amnt', 'installment'],\n",
       "       ['funded_amnt', 'loan_amnt'],\n",
       "       ['installment', 'loan_amnt'],\n",
       "       ['mo_sin_old_il_acct', 'mths_since_rcnt_il'],\n",
       "       ['num_actv_rev_tl', 'num_rev_tl_bal_gt_0'],\n",
       "       ['num_sats', 'open_acc'],\n",
       "       ['sec_app_fico_range_high', 'sec_app_fico_range_low'],\n",
       "       ['sec_app_num_rev_accts', 'sec_app_open_acc'],\n",
       "       ['tot_cur_bal', 'tot_hi_cred_lim'],\n",
       "       ['total_bal_ex_mort', 'total_bal_il'],\n",
       "       ['total_bal_il', 'total_il_high_credit_limit']], dtype='<U35')"
      ]
     },
     "execution_count": 193,
     "metadata": {},
     "output_type": "execute_result"
    }
   ],
   "source": [
    "high_corr_num = comb_num_feat[np.abs(corr_num_feat) >= 0.9]\n",
    "high_corr_num\n"
   ]
  },
  {
   "cell_type": "markdown",
   "metadata": {},
   "source": [
    "We will check for values with collinearity above 0.9"
   ]
  },
  {
   "cell_type": "code",
   "execution_count": 194,
   "metadata": {},
   "outputs": [],
   "source": [
    "df2= df2.drop(np.unique(high_corr_num[:, 0]), axis=1, errors='ignore')"
   ]
  },
  {
   "cell_type": "code",
   "execution_count": 217,
   "metadata": {},
   "outputs": [
    {
     "data": {
      "text/plain": [
       "application_type               2\n",
       "disbursement_method            2\n",
       "initial_list_status            2\n",
       "term                           2\n",
       "verification_status            3\n",
       "home_ownership                 4\n",
       "verification_status_joint      4\n",
       "grade                          7\n",
       "purpose                       13\n",
       "addr_state                    50\n",
       "sec_app_earliest_cr_line     646\n",
       "dtype: int64"
      ]
     },
     "execution_count": 217,
     "metadata": {},
     "output_type": "execute_result"
    }
   ],
   "source": [
    "cat_feat = df2.select_dtypes('object').columns.values\n",
    "df2[cat_feat].nunique().sort_values()"
   ]
  },
  {
   "cell_type": "code",
   "execution_count": 225,
   "metadata": {},
   "outputs": [
    {
     "data": {
      "text/plain": [
       "array(['', 'Not Verified', 'Verified', 'Source Verified'], dtype=object)"
      ]
     },
     "execution_count": 225,
     "metadata": {},
     "output_type": "execute_result"
    }
   ],
   "source": [
    "df2['verification_status_joint'].unique()"
   ]
  },
  {
   "cell_type": "markdown",
   "metadata": {},
   "source": [
    "Url has as many unique values as the number of rows and emp_title also has a lot of unique values to calculate correlation so removing both of them"
   ]
  },
  {
   "cell_type": "code",
   "execution_count": 197,
   "metadata": {},
   "outputs": [],
   "source": [
    "df2 = df2.drop(['url', 'emp_title'], axis=1, errors='ignore')\n"
   ]
  },
  {
   "cell_type": "markdown",
   "metadata": {},
   "source": [
    "Calculating Cramer's V correlation for categorical variables "
   ]
  },
  {
   "cell_type": "code",
   "execution_count": 199,
   "metadata": {},
   "outputs": [],
   "source": [
    "np.seterr(divide='ignore', invalid='ignore')\n",
    "cat_feat = df2.select_dtypes('object').columns.values\n",
    "comb_cat_feat = np.array(list(combinations(cat_feat, 2)))\n",
    "corr_cat_feat = np.array([])\n",
    "for comb in comb_cat_feat:\n",
    "    table = pd.pivot_table(X, values='loan_amnt', index=comb[0], columns=comb[1], aggfunc='count').fillna(0)\n",
    "    corr = np.sqrt(chi2_contingency(table)[0] / (table.values.sum() * (np.min(table.shape) - 1) ) )\n",
    "    corr_cat_feat = np.append(corr_cat_feat, corr)"
   ]
  },
  {
   "cell_type": "code",
   "execution_count": 200,
   "metadata": {},
   "outputs": [
    {
     "data": {
      "text/plain": [
       "array([['addr_state', 'zip_code'],\n",
       "       ['grade', 'sub_grade'],\n",
       "       ['purpose', 'title']], dtype='<U25')"
      ]
     },
     "execution_count": 200,
     "metadata": {},
     "output_type": "execute_result"
    }
   ],
   "source": [
    "high_corr_cat = comb_cat_feat[corr_cat_feat >= 0.9]\n",
    "high_corr_cat"
   ]
  },
  {
   "cell_type": "code",
   "execution_count": 201,
   "metadata": {},
   "outputs": [],
   "source": [
    "df2 = df2.drop(np.unique(high_corr_cat[:, 1]), axis=1, errors='ignore')\n"
   ]
  },
  {
   "cell_type": "markdown",
   "metadata": {},
   "source": [
    "Removing one of the two variables from each list object"
   ]
  },
  {
   "cell_type": "code",
   "execution_count": 215,
   "metadata": {},
   "outputs": [
    {
     "data": {
      "text/plain": [
       "array([0.06777557, 0.01967258, 0.01740946, 0.14608464, 0.01563901,\n",
       "       0.02263938, 0.0967608 , 0.01209159, 0.04116498, 0.02347855,\n",
       "       0.03801804, 0.04576782, 0.99776351, 0.08245357, 0.06953955,\n",
       "       0.14354545, 0.01300502, 0.07686784,        nan, 0.0784318 ,\n",
       "       0.0967495 , 0.07685791, 0.12839071,        nan, 0.1162327 ,\n",
       "       0.27199944, 0.02358611, 0.05906754, 0.2740072 , 0.10759567,\n",
       "       0.34741179, 0.01951398, 0.2740072 , 0.0506869 ,        nan,\n",
       "       0.05522378, 0.04395608, 0.15540598, 0.0680148 , 0.10702581,\n",
       "       1.        , 0.33047124, 0.067998  , 0.15308506, 0.08987679,\n",
       "       0.04859759, 0.04272198, 0.11183463, 0.2051105 , 0.05346076,\n",
       "       0.10876103, 0.11183166, 0.05720043, 0.04173194, 0.20899105,\n",
       "       0.05013569, 0.10703191, 0.16947644, 0.17437337, 0.05010761,\n",
       "       0.00963794, 0.00433748, 0.04578807, 0.10324299, 0.05424702,\n",
       "       0.10890095, 1.        , 0.06818489, 0.04968397, 0.0523617 ,\n",
       "       0.09484391, 0.1277503 , 0.10324299, 0.10598474, 0.11030335,\n",
       "       0.11233378, 0.36216902, 0.05659519, 0.16023742, 0.10639519,\n",
       "       0.04403838, 0.10890091, 0.11163734, 0.02124711, 0.07652374,\n",
       "       0.0681798 , 0.04968397, 0.05306437, 0.83311064, 0.07271502,\n",
       "       0.1315138 ])"
      ]
     },
     "execution_count": 215,
     "metadata": {},
     "output_type": "execute_result"
    }
   ],
   "source": [
    "corr_cat_feat"
   ]
  }
 ],
 "metadata": {
  "kernelspec": {
   "display_name": "Python 3",
   "language": "python",
   "name": "python3"
  },
  "language_info": {
   "codemirror_mode": {
    "name": "ipython",
    "version": 3
   },
   "file_extension": ".py",
   "mimetype": "text/x-python",
   "name": "python",
   "nbconvert_exporter": "python",
   "pygments_lexer": "ipython3",
   "version": "3.7.4"
  }
 },
 "nbformat": 4,
 "nbformat_minor": 2
}
