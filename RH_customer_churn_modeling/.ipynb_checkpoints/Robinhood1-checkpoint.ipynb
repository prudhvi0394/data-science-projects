{
 "cells": [
  {
   "cell_type": "code",
   "execution_count": 58,
   "metadata": {},
   "outputs": [],
   "source": [
    "import pandas as pd\n",
    "import datetime\n",
    "import os\n",
    "import warnings\n",
    "warnings.filterwarnings('ignore')\n",
    "import numpy as np\n",
    "import pandas as pd\n",
    "import matplotlib.pyplot as plt\n",
    "plt.style.use('fivethirtyeight')\n",
    "from pylab import rcParams\n",
    "rcParams['figure.figsize'] = 10, 6\n",
    "from statsmodels.tsa.stattools import adfuller\n",
    "from statsmodels.tsa.seasonal import seasonal_decompose\n",
    "from statsmodels.tsa.arima_model import ARIMA\n",
    "from pmdarima.arima import auto_arima\n",
    "from sklearn.metrics import mean_squared_error, mean_absolute_error\n",
    "import math\n",
    "import statsmodels.formula.api as sm\n",
    "\n",
    "from statsmodels.stats.outliers_influence import variance_inflation_factor\n",
    "import numpy as np"
   ]
  },
  {
   "cell_type": "code",
   "execution_count": 2,
   "metadata": {},
   "outputs": [],
   "source": [
    "df_X=pd.read_csv(\"delta_price_symbol_X.csv\",index_col=0)\n",
    "df_A_D =pd.read_csv(\"delta_price_symbols_A_to_D.csv\",index_col=0)\n",
    "df_E_H =pd.read_csv(\"delta_price_symbols_E_to_H.csv\",index_col=0)"
   ]
  },
  {
   "cell_type": "code",
   "execution_count": 22,
   "metadata": {},
   "outputs": [
    {
     "data": {
      "text/plain": [
       "set()"
      ]
     },
     "execution_count": 22,
     "metadata": {},
     "output_type": "execute_result"
    }
   ],
   "source": [
    "#checking if there is any difference in the indexes\n",
    "set(df_E_H.index)-set(df_X.index)\n"
   ]
  },
  {
   "cell_type": "code",
   "execution_count": 11,
   "metadata": {},
   "outputs": [],
   "source": [
    "#setting the index as datetime for all data\n",
    "df_X['Date'] = pd.to_datetime(df_X['Date'])\n",
    "df_X.set_index('Date', inplace=True)\n",
    "\n",
    "df_A_D['Date'] = pd.to_datetime(df_A_D['Date'])\n",
    "df_A_D.set_index('Date', inplace=True)\n",
    "\n",
    "df_E_H['Date'] = pd.to_datetime(df_E_H['Date'])\n",
    "df_E_H.set_index('Date', inplace=True)\n"
   ]
  },
  {
   "cell_type": "code",
   "execution_count": 23,
   "metadata": {},
   "outputs": [],
   "source": [
    "#merging the first two dataframes\n",
    "df = pd.merge_asof(df_X, df_A_D, on='Date')"
   ]
  },
  {
   "cell_type": "code",
   "execution_count": 27,
   "metadata": {},
   "outputs": [],
   "source": [
    "#merging the last dataframe\n",
    "\n",
    "df=pd.merge_asof(df, df_E_H, on='Date')"
   ]
  },
  {
   "cell_type": "code",
   "execution_count": 33,
   "metadata": {},
   "outputs": [
    {
     "data": {
      "text/plain": [
       "Index(['delta_price_X', 'delta_price_A', 'delta_price_B', 'delta_price_C',\n",
       "       'delta_price_D', 'delta_price_E', 'delta_price_F', 'delta_price_G',\n",
       "       'delta_price_H'],\n",
       "      dtype='object')"
      ]
     },
     "execution_count": 33,
     "metadata": {},
     "output_type": "execute_result"
    }
   ],
   "source": [
    "#setting date as index\n",
    "df.set_index('Date', inplace=True)"
   ]
  },
  {
   "cell_type": "code",
   "execution_count": 46,
   "metadata": {},
   "outputs": [],
   "source": [
    "#getting formula for ols\n",
    "def formula_from_cols(df, y):\n",
    "    return y + ' ~ ' + ' + '.join([col for col in df.columns if not col==y])"
   ]
  },
  {
   "cell_type": "code",
   "execution_count": 49,
   "metadata": {},
   "outputs": [],
   "source": [
    "formula=formula_from_cols(df,'delta_price_X')"
   ]
  },
  {
   "cell_type": "code",
   "execution_count": 51,
   "metadata": {
    "scrolled": true
   },
   "outputs": [],
   "source": [
    "#fitting an ols regression\n",
    "result = sm.ols(formula=formula, data=df).fit()"
   ]
  },
  {
   "cell_type": "code",
   "execution_count": 53,
   "metadata": {
    "scrolled": true
   },
   "outputs": [
    {
     "data": {
      "text/html": [
       "<table class=\"simpletable\">\n",
       "<caption>OLS Regression Results</caption>\n",
       "<tr>\n",
       "  <th>Dep. Variable:</th>      <td>delta_price_X</td>  <th>  R-squared:         </th> <td>   0.249</td>\n",
       "</tr>\n",
       "<tr>\n",
       "  <th>Model:</th>                   <td>OLS</td>       <th>  Adj. R-squared:    </th> <td>   0.197</td>\n",
       "</tr>\n",
       "<tr>\n",
       "  <th>Method:</th>             <td>Least Squares</td>  <th>  F-statistic:       </th> <td>   4.799</td>\n",
       "</tr>\n",
       "<tr>\n",
       "  <th>Date:</th>             <td>Sat, 01 May 2021</td> <th>  Prob (F-statistic):</th> <td>4.07e-05</td>\n",
       "</tr>\n",
       "<tr>\n",
       "  <th>Time:</th>                 <td>17:30:39</td>     <th>  Log-Likelihood:    </th> <td>  79.066</td>\n",
       "</tr>\n",
       "<tr>\n",
       "  <th>No. Observations:</th>      <td>   125</td>      <th>  AIC:               </th> <td>  -140.1</td>\n",
       "</tr>\n",
       "<tr>\n",
       "  <th>Df Residuals:</th>          <td>   116</td>      <th>  BIC:               </th> <td>  -114.7</td>\n",
       "</tr>\n",
       "<tr>\n",
       "  <th>Df Model:</th>              <td>     8</td>      <th>                     </th>     <td> </td>   \n",
       "</tr>\n",
       "<tr>\n",
       "  <th>Covariance Type:</th>      <td>nonrobust</td>    <th>                     </th>     <td> </td>   \n",
       "</tr>\n",
       "</table>\n",
       "<table class=\"simpletable\">\n",
       "<tr>\n",
       "        <td></td>           <th>coef</th>     <th>std err</th>      <th>t</th>      <th>P>|t|</th>  <th>[0.025</th>    <th>0.975]</th>  \n",
       "</tr>\n",
       "<tr>\n",
       "  <th>Intercept</th>     <td>    0.0049</td> <td>    0.012</td> <td>    0.410</td> <td> 0.682</td> <td>   -0.019</td> <td>    0.029</td>\n",
       "</tr>\n",
       "<tr>\n",
       "  <th>delta_price_A</th> <td>    8.2711</td> <td>    5.993</td> <td>    1.380</td> <td> 0.170</td> <td>   -3.600</td> <td>   20.142</td>\n",
       "</tr>\n",
       "<tr>\n",
       "  <th>delta_price_B</th> <td>   -0.2356</td> <td>    7.329</td> <td>   -0.032</td> <td> 0.974</td> <td>  -14.752</td> <td>   14.281</td>\n",
       "</tr>\n",
       "<tr>\n",
       "  <th>delta_price_C</th> <td>    9.2752</td> <td>    6.302</td> <td>    1.472</td> <td> 0.144</td> <td>   -3.206</td> <td>   21.757</td>\n",
       "</tr>\n",
       "<tr>\n",
       "  <th>delta_price_D</th> <td>   -9.1387</td> <td>    7.365</td> <td>   -1.241</td> <td> 0.217</td> <td>  -23.725</td> <td>    5.448</td>\n",
       "</tr>\n",
       "<tr>\n",
       "  <th>delta_price_E</th> <td>    2.4559</td> <td>    3.349</td> <td>    0.733</td> <td> 0.465</td> <td>   -4.178</td> <td>    9.090</td>\n",
       "</tr>\n",
       "<tr>\n",
       "  <th>delta_price_F</th> <td>   -2.0187</td> <td>    5.081</td> <td>   -0.397</td> <td> 0.692</td> <td>  -12.082</td> <td>    8.045</td>\n",
       "</tr>\n",
       "<tr>\n",
       "  <th>delta_price_G</th> <td>  -17.4871</td> <td>    4.205</td> <td>   -4.159</td> <td> 0.000</td> <td>  -25.815</td> <td>   -9.159</td>\n",
       "</tr>\n",
       "<tr>\n",
       "  <th>delta_price_H</th> <td>   13.7601</td> <td>    5.077</td> <td>    2.710</td> <td> 0.008</td> <td>    3.705</td> <td>   23.816</td>\n",
       "</tr>\n",
       "</table>\n",
       "<table class=\"simpletable\">\n",
       "<tr>\n",
       "  <th>Omnibus:</th>       <td>29.438</td> <th>  Durbin-Watson:     </th> <td>   2.704</td>\n",
       "</tr>\n",
       "<tr>\n",
       "  <th>Prob(Omnibus):</th> <td> 0.000</td> <th>  Jarque-Bera (JB):  </th> <td>  68.707</td>\n",
       "</tr>\n",
       "<tr>\n",
       "  <th>Skew:</th>          <td> 0.920</td> <th>  Prob(JB):          </th> <td>1.20e-15</td>\n",
       "</tr>\n",
       "<tr>\n",
       "  <th>Kurtosis:</th>      <td> 6.131</td> <th>  Cond. No.          </th> <td>    969.</td>\n",
       "</tr>\n",
       "</table><br/><br/>Warnings:<br/>[1] Standard Errors assume that the covariance matrix of the errors is correctly specified."
      ],
      "text/plain": [
       "<class 'statsmodels.iolib.summary.Summary'>\n",
       "\"\"\"\n",
       "                            OLS Regression Results                            \n",
       "==============================================================================\n",
       "Dep. Variable:          delta_price_X   R-squared:                       0.249\n",
       "Model:                            OLS   Adj. R-squared:                  0.197\n",
       "Method:                 Least Squares   F-statistic:                     4.799\n",
       "Date:                Sat, 01 May 2021   Prob (F-statistic):           4.07e-05\n",
       "Time:                        17:30:39   Log-Likelihood:                 79.066\n",
       "No. Observations:                 125   AIC:                            -140.1\n",
       "Df Residuals:                     116   BIC:                            -114.7\n",
       "Df Model:                           8                                         \n",
       "Covariance Type:            nonrobust                                         \n",
       "=================================================================================\n",
       "                    coef    std err          t      P>|t|      [0.025      0.975]\n",
       "---------------------------------------------------------------------------------\n",
       "Intercept         0.0049      0.012      0.410      0.682      -0.019       0.029\n",
       "delta_price_A     8.2711      5.993      1.380      0.170      -3.600      20.142\n",
       "delta_price_B    -0.2356      7.329     -0.032      0.974     -14.752      14.281\n",
       "delta_price_C     9.2752      6.302      1.472      0.144      -3.206      21.757\n",
       "delta_price_D    -9.1387      7.365     -1.241      0.217     -23.725       5.448\n",
       "delta_price_E     2.4559      3.349      0.733      0.465      -4.178       9.090\n",
       "delta_price_F    -2.0187      5.081     -0.397      0.692     -12.082       8.045\n",
       "delta_price_G   -17.4871      4.205     -4.159      0.000     -25.815      -9.159\n",
       "delta_price_H    13.7601      5.077      2.710      0.008       3.705      23.816\n",
       "==============================================================================\n",
       "Omnibus:                       29.438   Durbin-Watson:                   2.704\n",
       "Prob(Omnibus):                  0.000   Jarque-Bera (JB):               68.707\n",
       "Skew:                           0.920   Prob(JB):                     1.20e-15\n",
       "Kurtosis:                       6.131   Cond. No.                         969.\n",
       "==============================================================================\n",
       "\n",
       "Warnings:\n",
       "[1] Standard Errors assume that the covariance matrix of the errors is correctly specified.\n",
       "\"\"\""
      ]
     },
     "execution_count": 53,
     "metadata": {},
     "output_type": "execute_result"
    }
   ],
   "source": [
    "#summary of the results\n",
    "result.summary()"
   ]
  },
  {
   "cell_type": "markdown",
   "metadata": {},
   "source": [
    "## c)The most important variable is the delta_price_G since it has a p value of less than 0.05 at 95 % coinfidence to show that this variable is statistically significant in predicting the variability in the dependent variable."
   ]
  },
  {
   "cell_type": "markdown",
   "metadata": {},
   "source": [
    "## d)Based on the results I would remove variables which don't have a statistically significant linear relationship with the dependent variable from the model. Some of them are :-\n",
    "delta_price_A,\n",
    "\n",
    "delta_price_B,\n",
    "\n",
    "delta_price_C,\n",
    "\n",
    "delta_price_D,\n",
    "\n",
    "delta_price_E,\n",
    "\n",
    "delta_price_F,\n",
    "\n",
    "My final formula will be \n",
    "formula1='delta_price_X ~ delta_price_G + delta_price_H'"
   ]
  },
  {
   "cell_type": "code",
   "execution_count": 56,
   "metadata": {},
   "outputs": [],
   "source": [
    "#fitting an ols regression\n",
    "result1 = sm.ols(formula='delta_price_X ~ delta_price_G + delta_price_H', data=df).fit()"
   ]
  },
  {
   "cell_type": "code",
   "execution_count": 57,
   "metadata": {
    "scrolled": true
   },
   "outputs": [
    {
     "data": {
      "text/html": [
       "<table class=\"simpletable\">\n",
       "<caption>OLS Regression Results</caption>\n",
       "<tr>\n",
       "  <th>Dep. Variable:</th>      <td>delta_price_X</td>  <th>  R-squared:         </th> <td>   0.047</td>\n",
       "</tr>\n",
       "<tr>\n",
       "  <th>Model:</th>                   <td>OLS</td>       <th>  Adj. R-squared:    </th> <td>   0.032</td>\n",
       "</tr>\n",
       "<tr>\n",
       "  <th>Method:</th>             <td>Least Squares</td>  <th>  F-statistic:       </th> <td>   3.030</td>\n",
       "</tr>\n",
       "<tr>\n",
       "  <th>Date:</th>             <td>Sat, 01 May 2021</td> <th>  Prob (F-statistic):</th>  <td>0.0520</td> \n",
       "</tr>\n",
       "<tr>\n",
       "  <th>Time:</th>                 <td>17:38:59</td>     <th>  Log-Likelihood:    </th> <td>  64.226</td>\n",
       "</tr>\n",
       "<tr>\n",
       "  <th>No. Observations:</th>      <td>   125</td>      <th>  AIC:               </th> <td>  -122.5</td>\n",
       "</tr>\n",
       "<tr>\n",
       "  <th>Df Residuals:</th>          <td>   122</td>      <th>  BIC:               </th> <td>  -114.0</td>\n",
       "</tr>\n",
       "<tr>\n",
       "  <th>Df Model:</th>              <td>     2</td>      <th>                     </th>     <td> </td>   \n",
       "</tr>\n",
       "<tr>\n",
       "  <th>Covariance Type:</th>      <td>nonrobust</td>    <th>                     </th>     <td> </td>   \n",
       "</tr>\n",
       "</table>\n",
       "<table class=\"simpletable\">\n",
       "<tr>\n",
       "        <td></td>           <th>coef</th>     <th>std err</th>      <th>t</th>      <th>P>|t|</th>  <th>[0.025</th>    <th>0.975]</th>  \n",
       "</tr>\n",
       "<tr>\n",
       "  <th>Intercept</th>     <td>    0.0055</td> <td>    0.013</td> <td>    0.422</td> <td> 0.674</td> <td>   -0.020</td> <td>    0.031</td>\n",
       "</tr>\n",
       "<tr>\n",
       "  <th>delta_price_G</th> <td>   -4.3445</td> <td>    1.765</td> <td>   -2.461</td> <td> 0.015</td> <td>   -7.839</td> <td>   -0.850</td>\n",
       "</tr>\n",
       "<tr>\n",
       "  <th>delta_price_H</th> <td>    3.1062</td> <td>    1.592</td> <td>    1.952</td> <td> 0.053</td> <td>   -0.045</td> <td>    6.257</td>\n",
       "</tr>\n",
       "</table>\n",
       "<table class=\"simpletable\">\n",
       "<tr>\n",
       "  <th>Omnibus:</th>       <td>44.447</td> <th>  Durbin-Watson:     </th> <td>   2.796</td>\n",
       "</tr>\n",
       "<tr>\n",
       "  <th>Prob(Omnibus):</th> <td> 0.000</td> <th>  Jarque-Bera (JB):  </th> <td> 127.253</td>\n",
       "</tr>\n",
       "<tr>\n",
       "  <th>Skew:</th>          <td> 1.325</td> <th>  Prob(JB):          </th> <td>2.33e-28</td>\n",
       "</tr>\n",
       "<tr>\n",
       "  <th>Kurtosis:</th>      <td> 7.172</td> <th>  Cond. No.          </th> <td>    171.</td>\n",
       "</tr>\n",
       "</table><br/><br/>Warnings:<br/>[1] Standard Errors assume that the covariance matrix of the errors is correctly specified."
      ],
      "text/plain": [
       "<class 'statsmodels.iolib.summary.Summary'>\n",
       "\"\"\"\n",
       "                            OLS Regression Results                            \n",
       "==============================================================================\n",
       "Dep. Variable:          delta_price_X   R-squared:                       0.047\n",
       "Model:                            OLS   Adj. R-squared:                  0.032\n",
       "Method:                 Least Squares   F-statistic:                     3.030\n",
       "Date:                Sat, 01 May 2021   Prob (F-statistic):             0.0520\n",
       "Time:                        17:38:59   Log-Likelihood:                 64.226\n",
       "No. Observations:                 125   AIC:                            -122.5\n",
       "Df Residuals:                     122   BIC:                            -114.0\n",
       "Df Model:                           2                                         \n",
       "Covariance Type:            nonrobust                                         \n",
       "=================================================================================\n",
       "                    coef    std err          t      P>|t|      [0.025      0.975]\n",
       "---------------------------------------------------------------------------------\n",
       "Intercept         0.0055      0.013      0.422      0.674      -0.020       0.031\n",
       "delta_price_G    -4.3445      1.765     -2.461      0.015      -7.839      -0.850\n",
       "delta_price_H     3.1062      1.592      1.952      0.053      -0.045       6.257\n",
       "==============================================================================\n",
       "Omnibus:                       44.447   Durbin-Watson:                   2.796\n",
       "Prob(Omnibus):                  0.000   Jarque-Bera (JB):              127.253\n",
       "Skew:                           1.325   Prob(JB):                     2.33e-28\n",
       "Kurtosis:                       7.172   Cond. No.                         171.\n",
       "==============================================================================\n",
       "\n",
       "Warnings:\n",
       "[1] Standard Errors assume that the covariance matrix of the errors is correctly specified.\n",
       "\"\"\""
      ]
     },
     "execution_count": 57,
     "metadata": {},
     "output_type": "execute_result"
    }
   ],
   "source": [
    "result1.summary()"
   ]
  },
  {
   "cell_type": "code",
   "execution_count": 73,
   "metadata": {},
   "outputs": [],
   "source": [
    "# VIF dataframe\n",
    "X=df.drop(['delta_price_X'],axis=1)\n",
    "vif_data = pd.DataFrame()\n",
    "vif_data[\"feature\"] = X.iloc[:].columns\n",
    "\n",
    "# calculating VIF for each feature\n",
    "vif_data[\"VIF\"] = [variance_inflation_factor(X.values, i)\n",
    "                          for i in range(len(X.columns))]"
   ]
  },
  {
   "cell_type": "code",
   "execution_count": 78,
   "metadata": {},
   "outputs": [
    {
     "data": {
      "text/html": [
       "<div>\n",
       "<style scoped>\n",
       "    .dataframe tbody tr th:only-of-type {\n",
       "        vertical-align: middle;\n",
       "    }\n",
       "\n",
       "    .dataframe tbody tr th {\n",
       "        vertical-align: top;\n",
       "    }\n",
       "\n",
       "    .dataframe thead th {\n",
       "        text-align: right;\n",
       "    }\n",
       "</style>\n",
       "<table border=\"1\" class=\"dataframe\">\n",
       "  <thead>\n",
       "    <tr style=\"text-align: right;\">\n",
       "      <th></th>\n",
       "      <th>feature</th>\n",
       "      <th>VIF</th>\n",
       "    </tr>\n",
       "  </thead>\n",
       "  <tbody>\n",
       "    <tr>\n",
       "      <th>7</th>\n",
       "      <td>delta_price_H</td>\n",
       "      <td>31.038473</td>\n",
       "    </tr>\n",
       "    <tr>\n",
       "      <th>3</th>\n",
       "      <td>delta_price_D</td>\n",
       "      <td>27.714634</td>\n",
       "    </tr>\n",
       "    <tr>\n",
       "      <th>2</th>\n",
       "      <td>delta_price_C</td>\n",
       "      <td>18.473310</td>\n",
       "    </tr>\n",
       "    <tr>\n",
       "      <th>0</th>\n",
       "      <td>delta_price_A</td>\n",
       "      <td>17.636775</td>\n",
       "    </tr>\n",
       "    <tr>\n",
       "      <th>6</th>\n",
       "      <td>delta_price_G</td>\n",
       "      <td>17.317676</td>\n",
       "    </tr>\n",
       "    <tr>\n",
       "      <th>5</th>\n",
       "      <td>delta_price_F</td>\n",
       "      <td>16.075372</td>\n",
       "    </tr>\n",
       "    <tr>\n",
       "      <th>1</th>\n",
       "      <td>delta_price_B</td>\n",
       "      <td>15.690421</td>\n",
       "    </tr>\n",
       "    <tr>\n",
       "      <th>4</th>\n",
       "      <td>delta_price_E</td>\n",
       "      <td>13.405753</td>\n",
       "    </tr>\n",
       "  </tbody>\n",
       "</table>\n",
       "</div>"
      ],
      "text/plain": [
       "         feature        VIF\n",
       "7  delta_price_H  31.038473\n",
       "3  delta_price_D  27.714634\n",
       "2  delta_price_C  18.473310\n",
       "0  delta_price_A  17.636775\n",
       "6  delta_price_G  17.317676\n",
       "5  delta_price_F  16.075372\n",
       "1  delta_price_B  15.690421\n",
       "4  delta_price_E  13.405753"
      ]
     },
     "execution_count": 78,
     "metadata": {},
     "output_type": "execute_result"
    }
   ],
   "source": [
    "#to check multicollienarity\n",
    "vif_data.sort_values(by='VIF',ascending=False)"
   ]
  },
  {
   "cell_type": "code",
   "execution_count": 82,
   "metadata": {},
   "outputs": [
    {
     "data": {
      "text/plain": [
       "7    delta_price_H\n",
       "3    delta_price_D\n",
       "2    delta_price_C\n",
       "0    delta_price_A\n",
       "6    delta_price_G\n",
       "5    delta_price_F\n",
       "1    delta_price_B\n",
       "4    delta_price_E\n",
       "Name: feature, dtype: object"
      ]
     },
     "execution_count": 82,
     "metadata": {},
     "output_type": "execute_result"
    }
   ],
   "source": [
    "vif_data.sort_values(by='VIF',ascending=False).feature"
   ]
  },
  {
   "cell_type": "markdown",
   "metadata": {},
   "source": [
    "## Extension of d\n",
    "However since the R squared decreases drastically I would modify the formula based on the multicollinearity to remove the correlated variables and readjust the formula. For example we can see that delta_price_H & delta_price_D are highly correlated we remove one of them ie. delta_price_D since delta_price_H is highly influential due to the low p value with the dependent variable.\n",
    "\n",
    "We use the same process to remove one out of the next delta_price_C,delta_price_A,delta_price_F,delta_price_B\n",
    "delta_price_E and re run the models iteratively till we observe an R squared closer to the one we got initially"
   ]
  }
 ],
 "metadata": {
  "kernelspec": {
   "display_name": "Python 3",
   "language": "python",
   "name": "python3"
  },
  "language_info": {
   "codemirror_mode": {
    "name": "ipython",
    "version": 3
   },
   "file_extension": ".py",
   "mimetype": "text/x-python",
   "name": "python",
   "nbconvert_exporter": "python",
   "pygments_lexer": "ipython3",
   "version": "3.7.4"
  }
 },
 "nbformat": 4,
 "nbformat_minor": 4
}
